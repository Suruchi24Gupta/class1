{
 "cells": [
  {
   "cell_type": "code",
   "execution_count": 1,
   "id": "bbe00973",
   "metadata": {},
   "outputs": [],
   "source": [
    "x = \"neerajkumar\""
   ]
  },
  {
   "cell_type": "code",
   "execution_count": 2,
   "id": "eca152cf",
   "metadata": {},
   "outputs": [
    {
     "data": {
      "text/plain": [
       "'neeraj'"
      ]
     },
     "execution_count": 2,
     "metadata": {},
     "output_type": "execute_result"
    }
   ],
   "source": [
    "x[:6]"
   ]
  },
  {
   "cell_type": "code",
   "execution_count": 5,
   "id": "a40a8a52",
   "metadata": {},
   "outputs": [
    {
     "data": {
      "text/plain": [
       "'neerajKUMAR'"
      ]
     },
     "execution_count": 5,
     "metadata": {},
     "output_type": "execute_result"
    }
   ],
   "source": [
    "x[:6]+x[6:].upper()"
   ]
  },
  {
   "cell_type": "code",
   "execution_count": 6,
   "id": "3cbf1f6e",
   "metadata": {},
   "outputs": [
    {
     "data": {
      "text/plain": [
       "'neerajKumar'"
      ]
     },
     "execution_count": 6,
     "metadata": {},
     "output_type": "execute_result"
    }
   ],
   "source": [
    "x.replace('k','K')"
   ]
  },
  {
   "cell_type": "markdown",
   "id": "bb1390fd",
   "metadata": {},
   "source": [
    "# list"
   ]
  },
  {
   "cell_type": "code",
   "execution_count": 7,
   "id": "2f0a6f5f",
   "metadata": {},
   "outputs": [],
   "source": [
    "l = [2,4,5,8,2,4,5]"
   ]
  },
  {
   "cell_type": "code",
   "execution_count": 8,
   "id": "93cf7034",
   "metadata": {},
   "outputs": [
    {
     "data": {
      "text/plain": [
       "[2, 4, 5, 8, 2, 4, 5]"
      ]
     },
     "execution_count": 8,
     "metadata": {},
     "output_type": "execute_result"
    }
   ],
   "source": [
    "l"
   ]
  },
  {
   "cell_type": "code",
   "execution_count": 9,
   "id": "7c75da0b",
   "metadata": {},
   "outputs": [
    {
     "data": {
      "text/plain": [
       "4"
      ]
     },
     "execution_count": 9,
     "metadata": {},
     "output_type": "execute_result"
    }
   ],
   "source": [
    "l[1]"
   ]
  },
  {
   "cell_type": "markdown",
   "id": "1a39e2f2",
   "metadata": {},
   "source": [
    "# slicing"
   ]
  },
  {
   "cell_type": "code",
   "execution_count": 10,
   "id": "2a56962f",
   "metadata": {},
   "outputs": [
    {
     "data": {
      "text/plain": [
       "[5, 8]"
      ]
     },
     "execution_count": 10,
     "metadata": {},
     "output_type": "execute_result"
    }
   ],
   "source": [
    "l[2:4]"
   ]
  },
  {
   "cell_type": "code",
   "execution_count": 11,
   "id": "13468014",
   "metadata": {},
   "outputs": [],
   "source": [
    "# append    ------used for insert any element in the list\n",
    "# insert"
   ]
  },
  {
   "cell_type": "code",
   "execution_count": 12,
   "id": "346aeed6",
   "metadata": {},
   "outputs": [],
   "source": [
    "l.append(9)"
   ]
  },
  {
   "cell_type": "code",
   "execution_count": 13,
   "id": "bffa01c0",
   "metadata": {},
   "outputs": [
    {
     "data": {
      "text/plain": [
       "[2, 4, 5, 8, 2, 4, 5, 9]"
      ]
     },
     "execution_count": 13,
     "metadata": {},
     "output_type": "execute_result"
    }
   ],
   "source": [
    "l"
   ]
  },
  {
   "cell_type": "code",
   "execution_count": 14,
   "id": "a15b3819",
   "metadata": {},
   "outputs": [],
   "source": [
    "l.insert(3,12)"
   ]
  },
  {
   "cell_type": "code",
   "execution_count": 15,
   "id": "3fadc44d",
   "metadata": {},
   "outputs": [
    {
     "data": {
      "text/plain": [
       "[2, 4, 5, 12, 8, 2, 4, 5, 9]"
      ]
     },
     "execution_count": 15,
     "metadata": {},
     "output_type": "execute_result"
    }
   ],
   "source": [
    "l"
   ]
  },
  {
   "cell_type": "code",
   "execution_count": 16,
   "id": "b8f5ef2a",
   "metadata": {},
   "outputs": [],
   "source": [
    "# remove   -------used for removing any element  from the list\n",
    "# pop"
   ]
  },
  {
   "cell_type": "code",
   "execution_count": 17,
   "id": "a81decd9",
   "metadata": {},
   "outputs": [],
   "source": [
    "l.remove(5)"
   ]
  },
  {
   "cell_type": "code",
   "execution_count": 18,
   "id": "e2eec8c6",
   "metadata": {},
   "outputs": [
    {
     "data": {
      "text/plain": [
       "[2, 4, 12, 8, 2, 4, 5, 9]"
      ]
     },
     "execution_count": 18,
     "metadata": {},
     "output_type": "execute_result"
    }
   ],
   "source": [
    "l"
   ]
  },
  {
   "cell_type": "code",
   "execution_count": 19,
   "id": "53156b11",
   "metadata": {},
   "outputs": [
    {
     "data": {
      "text/plain": [
       "9"
      ]
     },
     "execution_count": 19,
     "metadata": {},
     "output_type": "execute_result"
    }
   ],
   "source": [
    "l.pop()"
   ]
  },
  {
   "cell_type": "code",
   "execution_count": 21,
   "id": "fd3618d4",
   "metadata": {},
   "outputs": [
    {
     "data": {
      "text/plain": [
       "12"
      ]
     },
     "execution_count": 21,
     "metadata": {},
     "output_type": "execute_result"
    }
   ],
   "source": [
    "l.pop(2)"
   ]
  },
  {
   "cell_type": "code",
   "execution_count": 22,
   "id": "3c4a26ba",
   "metadata": {},
   "outputs": [
    {
     "data": {
      "text/plain": [
       "[2, 4, 8, 2, 4, 5]"
      ]
     },
     "execution_count": 22,
     "metadata": {},
     "output_type": "execute_result"
    }
   ],
   "source": [
    "l"
   ]
  },
  {
   "cell_type": "code",
   "execution_count": 23,
   "id": "659c6a26",
   "metadata": {},
   "outputs": [],
   "source": [
    "x = [2,3,4,5]\n",
    "y = [4,6,2,8]"
   ]
  },
  {
   "cell_type": "code",
   "execution_count": 24,
   "id": "69bf4e6f",
   "metadata": {},
   "outputs": [
    {
     "data": {
      "text/plain": [
       "[2, 3, 4, 5, 4, 6, 2, 8]"
      ]
     },
     "execution_count": 24,
     "metadata": {},
     "output_type": "execute_result"
    }
   ],
   "source": [
    "x+y"
   ]
  },
  {
   "cell_type": "code",
   "execution_count": 25,
   "id": "b3852416",
   "metadata": {},
   "outputs": [],
   "source": [
    "x.append(y)"
   ]
  },
  {
   "cell_type": "code",
   "execution_count": 26,
   "id": "ca1fd328",
   "metadata": {},
   "outputs": [
    {
     "data": {
      "text/plain": [
       "[2, 3, 4, 5, [4, 6, 2, 8]]"
      ]
     },
     "execution_count": 26,
     "metadata": {},
     "output_type": "execute_result"
    }
   ],
   "source": [
    "x"
   ]
  },
  {
   "cell_type": "code",
   "execution_count": 27,
   "id": "c7853014",
   "metadata": {},
   "outputs": [],
   "source": [
    "# count  ------count the element in the list\n",
    "# find--------find the element in the list and return its indexing "
   ]
  },
  {
   "cell_type": "code",
   "execution_count": null,
   "id": "488a5812",
   "metadata": {},
   "outputs": [],
   "source": []
  },
  {
   "cell_type": "code",
   "execution_count": 30,
   "id": "5bb424b0",
   "metadata": {},
   "outputs": [],
   "source": [
    "l.clear()  #---- delete all the element from the list"
   ]
  },
  {
   "cell_type": "code",
   "execution_count": 31,
   "id": "237d81a8",
   "metadata": {},
   "outputs": [
    {
     "data": {
      "text/plain": [
       "[]"
      ]
     },
     "execution_count": 31,
     "metadata": {},
     "output_type": "execute_result"
    }
   ],
   "source": [
    "l"
   ]
  },
  {
   "cell_type": "code",
   "execution_count": 32,
   "id": "f8d7bebf",
   "metadata": {},
   "outputs": [],
   "source": [
    "l = [3,5,2,7,9,4,8]"
   ]
  },
  {
   "cell_type": "code",
   "execution_count": 33,
   "id": "485a70f9",
   "metadata": {},
   "outputs": [],
   "source": [
    "l.reverse()     # reverse the element in the list"
   ]
  },
  {
   "cell_type": "code",
   "execution_count": 34,
   "id": "d70cba42",
   "metadata": {},
   "outputs": [
    {
     "data": {
      "text/plain": [
       "[8, 4, 9, 7, 2, 5, 3]"
      ]
     },
     "execution_count": 34,
     "metadata": {},
     "output_type": "execute_result"
    }
   ],
   "source": [
    "l"
   ]
  },
  {
   "cell_type": "code",
   "execution_count": 36,
   "id": "56530dd2",
   "metadata": {},
   "outputs": [
    {
     "data": {
      "text/plain": [
       "3"
      ]
     },
     "execution_count": 36,
     "metadata": {},
     "output_type": "execute_result"
    }
   ],
   "source": [
    "l.index(7)    # find the index of any element and return its indexing"
   ]
  },
  {
   "cell_type": "code",
   "execution_count": 37,
   "id": "5214f3d3",
   "metadata": {},
   "outputs": [],
   "source": [
    "l.sort()   # arrange all the element in ascending order in a list"
   ]
  },
  {
   "cell_type": "code",
   "execution_count": 38,
   "id": "a0042a8f",
   "metadata": {},
   "outputs": [
    {
     "data": {
      "text/plain": [
       "[2, 3, 4, 5, 7, 8, 9]"
      ]
     },
     "execution_count": 38,
     "metadata": {},
     "output_type": "execute_result"
    }
   ],
   "source": [
    "l"
   ]
  },
  {
   "cell_type": "markdown",
   "id": "45daa6b4",
   "metadata": {},
   "source": [
    "# list slicing"
   ]
  },
  {
   "cell_type": "code",
   "execution_count": 47,
   "id": "3c7706d5",
   "metadata": {},
   "outputs": [],
   "source": [
    "l = [2,5,7,[3,5,7,9]]"
   ]
  },
  {
   "cell_type": "code",
   "execution_count": 49,
   "id": "895f2086",
   "metadata": {},
   "outputs": [
    {
     "data": {
      "text/plain": [
       "[3, 5, 7, 9]"
      ]
     },
     "execution_count": 49,
     "metadata": {},
     "output_type": "execute_result"
    }
   ],
   "source": [
    "l[3]"
   ]
  },
  {
   "cell_type": "code",
   "execution_count": 50,
   "id": "9f365b47",
   "metadata": {},
   "outputs": [
    {
     "data": {
      "text/plain": [
       "3"
      ]
     },
     "execution_count": 50,
     "metadata": {},
     "output_type": "execute_result"
    }
   ],
   "source": [
    "l[3][0]"
   ]
  },
  {
   "cell_type": "code",
   "execution_count": 52,
   "id": "7eb6826c",
   "metadata": {},
   "outputs": [],
   "source": [
    "l = [2,4,5,3,[7,8,[9,10,11]]]"
   ]
  },
  {
   "cell_type": "code",
   "execution_count": 53,
   "id": "8a800af5",
   "metadata": {},
   "outputs": [
    {
     "data": {
      "text/plain": [
       "[7, 8, [9, 10, 11]]"
      ]
     },
     "execution_count": 53,
     "metadata": {},
     "output_type": "execute_result"
    }
   ],
   "source": [
    "l[4]"
   ]
  },
  {
   "cell_type": "code",
   "execution_count": 55,
   "id": "1a76141d",
   "metadata": {},
   "outputs": [
    {
     "data": {
      "text/plain": [
       "10"
      ]
     },
     "execution_count": 55,
     "metadata": {},
     "output_type": "execute_result"
    }
   ],
   "source": [
    "l[4][2][1]"
   ]
  },
  {
   "cell_type": "code",
   "execution_count": 56,
   "id": "38e09209",
   "metadata": {},
   "outputs": [],
   "source": [
    "l = [3,4,5,6,7,[3,56,67,[34,58],33,45]]"
   ]
  },
  {
   "cell_type": "code",
   "execution_count": 58,
   "id": "24dfc152",
   "metadata": {},
   "outputs": [
    {
     "data": {
      "text/plain": [
       "33"
      ]
     },
     "execution_count": 58,
     "metadata": {},
     "output_type": "execute_result"
    }
   ],
   "source": [
    "l[5][4]"
   ]
  },
  {
   "cell_type": "code",
   "execution_count": 59,
   "id": "404b08d2",
   "metadata": {},
   "outputs": [],
   "source": [
    "l = [2,4,7,2,9,4,5]"
   ]
  },
  {
   "cell_type": "code",
   "execution_count": 62,
   "id": "d0baee50",
   "metadata": {},
   "outputs": [
    {
     "name": "stdout",
     "output_type": "stream",
     "text": [
      "enter the no.10\n",
      "not present\n"
     ]
    }
   ],
   "source": [
    "a = int(input(\"enter the no.\"))\n",
    "if a in l:\n",
    "    print(\"present\")\n",
    "else:\n",
    "    print(\"not present\")\n"
   ]
  },
  {
   "cell_type": "markdown",
   "id": "0457e8d0",
   "metadata": {},
   "source": [
    "# tulple"
   ]
  },
  {
   "cell_type": "code",
   "execution_count": 68,
   "id": "91656177",
   "metadata": {},
   "outputs": [],
   "source": [
    "t =(2,4,5,7,8,9)"
   ]
  },
  {
   "cell_type": "code",
   "execution_count": 67,
   "id": "7b86f570",
   "metadata": {},
   "outputs": [
    {
     "data": {
      "text/plain": [
       "tuple"
      ]
     },
     "execution_count": 67,
     "metadata": {},
     "output_type": "execute_result"
    }
   ],
   "source": [
    "type(t)"
   ]
  },
  {
   "cell_type": "code",
   "execution_count": 69,
   "id": "15a5246c",
   "metadata": {},
   "outputs": [
    {
     "data": {
      "text/plain": [
       "1"
      ]
     },
     "execution_count": 69,
     "metadata": {},
     "output_type": "execute_result"
    }
   ],
   "source": [
    "t.count(2)"
   ]
  },
  {
   "cell_type": "markdown",
   "id": "5904e26a",
   "metadata": {},
   "source": [
    "# set"
   ]
  },
  {
   "cell_type": "code",
   "execution_count": 74,
   "id": "57b19ae9",
   "metadata": {},
   "outputs": [],
   "source": [
    "s = {3,4,2,10,10,6,8}"
   ]
  },
  {
   "cell_type": "code",
   "execution_count": 75,
   "id": "94712d72",
   "metadata": {},
   "outputs": [
    {
     "data": {
      "text/plain": [
       "{2, 3, 4, 6, 8, 10}"
      ]
     },
     "execution_count": 75,
     "metadata": {},
     "output_type": "execute_result"
    }
   ],
   "source": [
    "s"
   ]
  },
  {
   "cell_type": "code",
   "execution_count": 76,
   "id": "a0bbd740",
   "metadata": {},
   "outputs": [],
   "source": [
    "s.add(11)"
   ]
  },
  {
   "cell_type": "code",
   "execution_count": 78,
   "id": "91c43ac3",
   "metadata": {},
   "outputs": [],
   "source": [
    "s1 = s.copy()"
   ]
  },
  {
   "cell_type": "code",
   "execution_count": 79,
   "id": "f65e2aa5",
   "metadata": {},
   "outputs": [
    {
     "data": {
      "text/plain": [
       "{2, 3, 4, 6, 8, 10, 11}"
      ]
     },
     "execution_count": 79,
     "metadata": {},
     "output_type": "execute_result"
    }
   ],
   "source": [
    "s1"
   ]
  },
  {
   "cell_type": "code",
   "execution_count": 81,
   "id": "78fad577",
   "metadata": {},
   "outputs": [],
   "source": [
    "s.remove(4)"
   ]
  },
  {
   "cell_type": "code",
   "execution_count": 82,
   "id": "6f3f4244",
   "metadata": {},
   "outputs": [
    {
     "data": {
      "text/plain": [
       "{2, 3, 6, 8, 10, 11}"
      ]
     },
     "execution_count": 82,
     "metadata": {},
     "output_type": "execute_result"
    }
   ],
   "source": [
    "s"
   ]
  },
  {
   "cell_type": "code",
   "execution_count": 85,
   "id": "d053b580",
   "metadata": {},
   "outputs": [
    {
     "data": {
      "text/plain": [
       "3"
      ]
     },
     "execution_count": 85,
     "metadata": {},
     "output_type": "execute_result"
    }
   ],
   "source": [
    "s.pop()"
   ]
  },
  {
   "cell_type": "code",
   "execution_count": 86,
   "id": "8b9076c6",
   "metadata": {},
   "outputs": [
    {
     "data": {
      "text/plain": [
       "{6, 8, 10, 11}"
      ]
     },
     "execution_count": 86,
     "metadata": {},
     "output_type": "execute_result"
    }
   ],
   "source": [
    "s"
   ]
  },
  {
   "cell_type": "code",
   "execution_count": 96,
   "id": "504b2a91",
   "metadata": {},
   "outputs": [],
   "source": [
    "s1 = {2,3,5,7,8}\n",
    "s2 = {4,7,8,9}"
   ]
  },
  {
   "cell_type": "code",
   "execution_count": 97,
   "id": "13215338",
   "metadata": {},
   "outputs": [
    {
     "data": {
      "text/plain": [
       "{2, 3, 5}"
      ]
     },
     "execution_count": 97,
     "metadata": {},
     "output_type": "execute_result"
    }
   ],
   "source": [
    "s1-s2"
   ]
  },
  {
   "cell_type": "code",
   "execution_count": 99,
   "id": "01b3a957",
   "metadata": {},
   "outputs": [
    {
     "data": {
      "text/plain": [
       "{2, 3, 4, 5, 9}"
      ]
     },
     "execution_count": 99,
     "metadata": {},
     "output_type": "execute_result"
    }
   ],
   "source": [
    "s1.symmetric_difference(s2)"
   ]
  },
  {
   "cell_type": "code",
   "execution_count": 89,
   "id": "8cb7b01a",
   "metadata": {},
   "outputs": [
    {
     "data": {
      "text/plain": [
       "{7, 8}"
      ]
     },
     "execution_count": 89,
     "metadata": {},
     "output_type": "execute_result"
    }
   ],
   "source": [
    "s1.intersection(s2)"
   ]
  },
  {
   "cell_type": "code",
   "execution_count": 90,
   "id": "b7b2735b",
   "metadata": {},
   "outputs": [
    {
     "data": {
      "text/plain": [
       "{2, 3, 4, 5, 7, 8, 9}"
      ]
     },
     "execution_count": 90,
     "metadata": {},
     "output_type": "execute_result"
    }
   ],
   "source": [
    "s1.union(s2)"
   ]
  },
  {
   "cell_type": "code",
   "execution_count": 91,
   "id": "1409b6ea",
   "metadata": {},
   "outputs": [],
   "source": [
    "s1.update(s2)"
   ]
  },
  {
   "cell_type": "code",
   "execution_count": 92,
   "id": "0805c7d5",
   "metadata": {},
   "outputs": [
    {
     "data": {
      "text/plain": [
       "{2, 3, 4, 5, 7, 8, 9}"
      ]
     },
     "execution_count": 92,
     "metadata": {},
     "output_type": "execute_result"
    }
   ],
   "source": [
    "s1"
   ]
  },
  {
   "cell_type": "code",
   "execution_count": 94,
   "id": "aaf63fab",
   "metadata": {},
   "outputs": [
    {
     "data": {
      "text/plain": [
       "True"
      ]
     },
     "execution_count": 94,
     "metadata": {},
     "output_type": "execute_result"
    }
   ],
   "source": [
    "s2.issubset(s1)"
   ]
  },
  {
   "cell_type": "code",
   "execution_count": 95,
   "id": "0882f442",
   "metadata": {},
   "outputs": [
    {
     "data": {
      "text/plain": [
       "True"
      ]
     },
     "execution_count": 95,
     "metadata": {},
     "output_type": "execute_result"
    }
   ],
   "source": [
    "s1.issuperset(s2)"
   ]
  },
  {
   "cell_type": "markdown",
   "id": "931af926",
   "metadata": {},
   "source": [
    "# Dictionary"
   ]
  },
  {
   "cell_type": "code",
   "execution_count": 100,
   "id": "faeb89e9",
   "metadata": {},
   "outputs": [],
   "source": [
    "d = {'n':2,'m':5}"
   ]
  },
  {
   "cell_type": "code",
   "execution_count": 101,
   "id": "21b6dbed",
   "metadata": {},
   "outputs": [
    {
     "data": {
      "text/plain": [
       "2"
      ]
     },
     "execution_count": 101,
     "metadata": {},
     "output_type": "execute_result"
    }
   ],
   "source": [
    "d['n']"
   ]
  },
  {
   "cell_type": "code",
   "execution_count": 102,
   "id": "1f78d06b",
   "metadata": {},
   "outputs": [
    {
     "data": {
      "text/plain": [
       "5"
      ]
     },
     "execution_count": 102,
     "metadata": {},
     "output_type": "execute_result"
    }
   ],
   "source": [
    "d['m']"
   ]
  },
  {
   "cell_type": "code",
   "execution_count": 103,
   "id": "2bb23180",
   "metadata": {},
   "outputs": [],
   "source": [
    "d = {'n':[34,5,6],'m':[4,6,8,9]}"
   ]
  },
  {
   "cell_type": "code",
   "execution_count": 104,
   "id": "9a11eab6",
   "metadata": {},
   "outputs": [
    {
     "data": {
      "text/plain": [
       "[34, 5, 6]"
      ]
     },
     "execution_count": 104,
     "metadata": {},
     "output_type": "execute_result"
    }
   ],
   "source": [
    "d['n']"
   ]
  },
  {
   "cell_type": "code",
   "execution_count": 105,
   "id": "6d3fe30f",
   "metadata": {},
   "outputs": [],
   "source": [
    "d['k']  =67"
   ]
  },
  {
   "cell_type": "code",
   "execution_count": 106,
   "id": "7062c639",
   "metadata": {},
   "outputs": [
    {
     "data": {
      "text/plain": [
       "{'n': [34, 5, 6], 'm': [4, 6, 8, 9], 'k': 67}"
      ]
     },
     "execution_count": 106,
     "metadata": {},
     "output_type": "execute_result"
    }
   ],
   "source": [
    "d"
   ]
  },
  {
   "cell_type": "code",
   "execution_count": 107,
   "id": "8236a139",
   "metadata": {},
   "outputs": [],
   "source": [
    "d.update({'l':45})"
   ]
  },
  {
   "cell_type": "code",
   "execution_count": 109,
   "id": "c6ff84cf",
   "metadata": {},
   "outputs": [
    {
     "data": {
      "text/plain": [
       "{'n': [34, 5, 6], 'm': [4, 6, 8, 9], 'k': 67, 'l': 45}"
      ]
     },
     "execution_count": 109,
     "metadata": {},
     "output_type": "execute_result"
    }
   ],
   "source": [
    "d"
   ]
  },
  {
   "cell_type": "code",
   "execution_count": 112,
   "id": "229adb5c",
   "metadata": {},
   "outputs": [
    {
     "data": {
      "text/plain": [
       "[34, 5, 6]"
      ]
     },
     "execution_count": 112,
     "metadata": {},
     "output_type": "execute_result"
    }
   ],
   "source": [
    "d.pop('n')"
   ]
  },
  {
   "cell_type": "code",
   "execution_count": 114,
   "id": "4a6b9b35",
   "metadata": {},
   "outputs": [
    {
     "data": {
      "text/plain": [
       "('l', 45)"
      ]
     },
     "execution_count": 114,
     "metadata": {},
     "output_type": "execute_result"
    }
   ],
   "source": [
    "d.popitem()"
   ]
  },
  {
   "cell_type": "code",
   "execution_count": 115,
   "id": "21d0f463",
   "metadata": {},
   "outputs": [
    {
     "data": {
      "text/plain": [
       "{'m': [4, 6, 8, 9], 'k': 67}"
      ]
     },
     "execution_count": 115,
     "metadata": {},
     "output_type": "execute_result"
    }
   ],
   "source": [
    "d"
   ]
  },
  {
   "cell_type": "code",
   "execution_count": 116,
   "id": "776f20a5",
   "metadata": {},
   "outputs": [
    {
     "name": "stdout",
     "output_type": "stream",
     "text": [
      "enter the name :rahul\n",
      "enter the marks of math :45\n",
      "enter the marks of math :67\n",
      "enter the marks of math :78\n"
     ]
    }
   ],
   "source": [
    "l = []\n",
    "d = {}\n",
    "name = input('enter the name :')\n",
    "marks1 = int(input('enter the marks of math :'))\n",
    "marks2 = int(input('enter the marks of math :'))\n",
    "marks3 = int(input('enter the marks of math :'))\n",
    "l.append(marks1)\n",
    "l.append(marks2)\n",
    "l.append(marks3)\n",
    "d[name] = l"
   ]
  },
  {
   "cell_type": "code",
   "execution_count": 117,
   "id": "c440ebbd",
   "metadata": {},
   "outputs": [
    {
     "data": {
      "text/plain": [
       "{'rahul': [45, 67, 78]}"
      ]
     },
     "execution_count": 117,
     "metadata": {},
     "output_type": "execute_result"
    }
   ],
   "source": [
    "d"
   ]
  },
  {
   "cell_type": "code",
   "execution_count": 120,
   "id": "1e667c3e",
   "metadata": {},
   "outputs": [],
   "source": [
    "d = {'c':2,'b':4,'e':5}"
   ]
  },
  {
   "cell_type": "code",
   "execution_count": 119,
   "id": "0ca5d201",
   "metadata": {},
   "outputs": [
    {
     "data": {
      "text/plain": [
       "dict_keys(['c', 'b', 'e'])"
      ]
     },
     "execution_count": 119,
     "metadata": {},
     "output_type": "execute_result"
    }
   ],
   "source": [
    "d.keys()"
   ]
  },
  {
   "cell_type": "code",
   "execution_count": 121,
   "id": "78e770b2",
   "metadata": {},
   "outputs": [
    {
     "data": {
      "text/plain": [
       "dict_values([2, 4, 5])"
      ]
     },
     "execution_count": 121,
     "metadata": {},
     "output_type": "execute_result"
    }
   ],
   "source": [
    "d.values()"
   ]
  },
  {
   "cell_type": "code",
   "execution_count": 122,
   "id": "e3edc518",
   "metadata": {},
   "outputs": [
    {
     "data": {
      "text/plain": [
       "dict_items([('c', 2), ('b', 4), ('e', 5)])"
      ]
     },
     "execution_count": 122,
     "metadata": {},
     "output_type": "execute_result"
    }
   ],
   "source": [
    "d.items()"
   ]
  },
  {
   "cell_type": "code",
   "execution_count": 132,
   "id": "1f334224",
   "metadata": {},
   "outputs": [],
   "source": [
    "d.get('f')"
   ]
  },
  {
   "cell_type": "code",
   "execution_count": 131,
   "id": "60bb13eb",
   "metadata": {},
   "outputs": [
    {
     "ename": "KeyError",
     "evalue": "'f'",
     "output_type": "error",
     "traceback": [
      "\u001b[1;31m---------------------------------------------------------------------------\u001b[0m",
      "\u001b[1;31mKeyError\u001b[0m                                  Traceback (most recent call last)",
      "\u001b[1;32m~\\AppData\\Local\\Temp/ipykernel_6944/1185343695.py\u001b[0m in \u001b[0;36m<module>\u001b[1;34m\u001b[0m\n\u001b[1;32m----> 1\u001b[1;33m \u001b[0md\u001b[0m\u001b[1;33m[\u001b[0m\u001b[1;34m'f'\u001b[0m\u001b[1;33m]\u001b[0m\u001b[1;33m\u001b[0m\u001b[1;33m\u001b[0m\u001b[0m\n\u001b[0m",
      "\u001b[1;31mKeyError\u001b[0m: 'f'"
     ]
    }
   ],
   "source": [
    "d['f']"
   ]
  },
  {
   "cell_type": "code",
   "execution_count": 133,
   "id": "44c40d99",
   "metadata": {},
   "outputs": [],
   "source": [
    "l = [2,3,5,6,6]\n",
    "l1 = 9"
   ]
  },
  {
   "cell_type": "code",
   "execution_count": 134,
   "id": "5d909993",
   "metadata": {},
   "outputs": [
    {
     "data": {
      "text/plain": [
       "{2: 9, 3: 9, 5: 9, 6: 9}"
      ]
     },
     "execution_count": 134,
     "metadata": {},
     "output_type": "execute_result"
    }
   ],
   "source": [
    "d.fromkeys(l,l1)"
   ]
  },
  {
   "cell_type": "code",
   "execution_count": 135,
   "id": "b893e5bc",
   "metadata": {},
   "outputs": [
    {
     "data": {
      "text/plain": [
       "{'c': 2, 'b': 4, 'e': 5}"
      ]
     },
     "execution_count": 135,
     "metadata": {},
     "output_type": "execute_result"
    }
   ],
   "source": [
    "d"
   ]
  },
  {
   "cell_type": "code",
   "execution_count": 136,
   "id": "7c06d31a",
   "metadata": {},
   "outputs": [
    {
     "data": {
      "text/plain": [
       "2"
      ]
     },
     "execution_count": 136,
     "metadata": {},
     "output_type": "execute_result"
    }
   ],
   "source": [
    "d.setdefault('c',56)"
   ]
  },
  {
   "cell_type": "code",
   "execution_count": 137,
   "id": "484a0a1e",
   "metadata": {},
   "outputs": [
    {
     "data": {
      "text/plain": [
       "{'c': 2, 'b': 4, 'e': 5}"
      ]
     },
     "execution_count": 137,
     "metadata": {},
     "output_type": "execute_result"
    }
   ],
   "source": [
    "d"
   ]
  },
  {
   "cell_type": "code",
   "execution_count": 138,
   "id": "287213db",
   "metadata": {},
   "outputs": [
    {
     "name": "stdout",
     "output_type": "stream",
     "text": [
      "hello\n"
     ]
    }
   ],
   "source": [
    "print('hello')"
   ]
  },
  {
   "cell_type": "markdown",
   "id": "700a459c",
   "metadata": {},
   "source": [
    "# Loops in python"
   ]
  },
  {
   "cell_type": "code",
   "execution_count": 139,
   "id": "31276c26",
   "metadata": {},
   "outputs": [],
   "source": [
    "# for \n",
    "# while"
   ]
  },
  {
   "cell_type": "code",
   "execution_count": 142,
   "id": "5a90e833",
   "metadata": {},
   "outputs": [
    {
     "name": "stdout",
     "output_type": "stream",
     "text": [
      "0\n",
      "1\n",
      "2\n",
      "3\n",
      "4\n"
     ]
    }
   ],
   "source": [
    "for i in range(5):\n",
    "    print(i)"
   ]
  },
  {
   "cell_type": "code",
   "execution_count": 152,
   "id": "ba2fdd61",
   "metadata": {},
   "outputs": [
    {
     "name": "stdout",
     "output_type": "stream",
     "text": [
      "1\n",
      "2\n",
      "3\n",
      "4\n"
     ]
    }
   ],
   "source": [
    "for j in range(1,5,1):\n",
    "    print(j)"
   ]
  },
  {
   "cell_type": "code",
   "execution_count": 154,
   "id": "200f7033",
   "metadata": {},
   "outputs": [],
   "source": [
    "l = [2,4,3,6,7,8,9]\n",
    "n = len(l)"
   ]
  },
  {
   "cell_type": "code",
   "execution_count": 155,
   "id": "c9c43935",
   "metadata": {},
   "outputs": [
    {
     "data": {
      "text/plain": [
       "2"
      ]
     },
     "execution_count": 155,
     "metadata": {},
     "output_type": "execute_result"
    }
   ],
   "source": [
    "l"
   ]
  },
  {
   "cell_type": "code",
   "execution_count": 162,
   "id": "0847eb7e",
   "metadata": {},
   "outputs": [
    {
     "name": "stdout",
     "output_type": "stream",
     "text": [
      "55\n"
     ]
    }
   ],
   "source": [
    "s = 0\n",
    "for i in range(1,11):\n",
    "    s = s+i\n",
    "print(s)"
   ]
  },
  {
   "cell_type": "code",
   "execution_count": 157,
   "id": "b80539b6",
   "metadata": {},
   "outputs": [
    {
     "name": "stdout",
     "output_type": "stream",
     "text": [
      "2\n",
      "4\n",
      "3\n",
      "6\n",
      "7\n",
      "8\n",
      "9\n"
     ]
    }
   ],
   "source": [
    "for i in l:\n",
    "    print(i)"
   ]
  },
  {
   "cell_type": "code",
   "execution_count": 163,
   "id": "e54b7359",
   "metadata": {},
   "outputs": [],
   "source": [
    "sum_even = 0\n",
    "sum_odd = 0\n",
    "for i in range(1,101,):\n",
    "    if i%2==0:\n",
    "        sum_even = sum_even+i\n",
    "    else:\n",
    "        sum_odd = sum_odd+i"
   ]
  },
  {
   "cell_type": "code",
   "execution_count": 164,
   "id": "d4d9f6da",
   "metadata": {},
   "outputs": [
    {
     "data": {
      "text/plain": [
       "2500"
      ]
     },
     "execution_count": 164,
     "metadata": {},
     "output_type": "execute_result"
    }
   ],
   "source": [
    "sum_odd"
   ]
  },
  {
   "cell_type": "code",
   "execution_count": 165,
   "id": "b5798825",
   "metadata": {},
   "outputs": [
    {
     "data": {
      "text/plain": [
       "2550"
      ]
     },
     "execution_count": 165,
     "metadata": {},
     "output_type": "execute_result"
    }
   ],
   "source": [
    "sum_even"
   ]
  },
  {
   "cell_type": "code",
   "execution_count": 171,
   "id": "21ea33e9",
   "metadata": {},
   "outputs": [
    {
     "name": "stdout",
     "output_type": "stream",
     "text": [
      "56\n"
     ]
    }
   ],
   "source": [
    "s = 0\n",
    "l = [2,3,5,7,8,9,10,12]\n",
    "for i in range(len(l)):\n",
    "    s = s+l[i]\n",
    "print(s)"
   ]
  },
  {
   "cell_type": "code",
   "execution_count": 170,
   "id": "6398cc46",
   "metadata": {},
   "outputs": [
    {
     "name": "stdout",
     "output_type": "stream",
     "text": [
      "56\n"
     ]
    }
   ],
   "source": [
    "s = 0\n",
    "for i in l:\n",
    "    s = s+i\n",
    "print(s)"
   ]
  },
  {
   "cell_type": "code",
   "execution_count": null,
   "id": "e9bef642",
   "metadata": {},
   "outputs": [],
   "source": [
    "variable delcear\n",
    "while condition:\n",
    "    operation\n",
    "    increment"
   ]
  },
  {
   "cell_type": "code",
   "execution_count": 172,
   "id": "07cf9387",
   "metadata": {},
   "outputs": [],
   "source": [
    "i = 0\n",
    "s = 0\n",
    "while i<11:\n",
    "    s = s+i\n",
    "    i = i*5"
   ]
  },
  {
   "cell_type": "code",
   "execution_count": 173,
   "id": "0b473516",
   "metadata": {},
   "outputs": [
    {
     "data": {
      "text/plain": [
       "55"
      ]
     },
     "execution_count": 173,
     "metadata": {},
     "output_type": "execute_result"
    }
   ],
   "source": [
    "153"
   ]
  },
  {
   "cell_type": "code",
   "execution_count": 174,
   "id": "d76319bc",
   "metadata": {},
   "outputs": [],
   "source": [
    "x = str(153)"
   ]
  },
  {
   "cell_type": "code",
   "execution_count": 180,
   "id": "1fe88b4e",
   "metadata": {},
   "outputs": [
    {
     "data": {
      "text/plain": [
       "153"
      ]
     },
     "execution_count": 180,
     "metadata": {},
     "output_type": "execute_result"
    }
   ],
   "source": [
    "int(x[0])**3 + int(x[1])**3 +int(x[2])**3"
   ]
  },
  {
   "cell_type": "code",
   "execution_count": null,
   "id": "4740a433",
   "metadata": {},
   "outputs": [],
   "source": []
  }
 ],
 "metadata": {
  "kernelspec": {
   "display_name": "Python 3 (ipykernel)",
   "language": "python",
   "name": "python3"
  },
  "language_info": {
   "codemirror_mode": {
    "name": "ipython",
    "version": 3
   },
   "file_extension": ".py",
   "mimetype": "text/x-python",
   "name": "python",
   "nbconvert_exporter": "python",
   "pygments_lexer": "ipython3",
   "version": "3.9.7"
  }
 },
 "nbformat": 4,
 "nbformat_minor": 5
}
