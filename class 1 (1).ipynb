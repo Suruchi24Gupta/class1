{
 "cells": [
  {
   "cell_type": "code",
   "execution_count": 1,
   "id": "9c8b0d7a",
   "metadata": {},
   "outputs": [
    {
     "name": "stdout",
     "output_type": "stream",
     "text": [
      "56\n"
     ]
    }
   ],
   "source": [
    "print(56)"
   ]
  },
  {
   "cell_type": "code",
   "execution_count": 2,
   "id": "48540283",
   "metadata": {},
   "outputs": [
    {
     "data": {
      "text/plain": [
       "45"
      ]
     },
     "execution_count": 2,
     "metadata": {},
     "output_type": "execute_result"
    }
   ],
   "source": [
    "45"
   ]
  },
  {
   "cell_type": "code",
   "execution_count": 4,
   "id": "eb8fcd73",
   "metadata": {},
   "outputs": [
    {
     "data": {
      "text/plain": [
       "'jsfnsofjegn'"
      ]
     },
     "execution_count": 4,
     "metadata": {},
     "output_type": "execute_result"
    }
   ],
   "source": [
    "'jsfnsofjegn'"
   ]
  },
  {
   "cell_type": "code",
   "execution_count": 5,
   "id": "1ab79207",
   "metadata": {},
   "outputs": [
    {
     "name": "stdout",
     "output_type": "stream",
     "text": [
      "45\n"
     ]
    }
   ],
   "source": [
    "print(45)"
   ]
  },
  {
   "cell_type": "code",
   "execution_count": 6,
   "id": "6fd4f93b",
   "metadata": {},
   "outputs": [
    {
     "name": "stdout",
     "output_type": "stream",
     "text": [
      "neeraj\n"
     ]
    }
   ],
   "source": [
    "print('neeraj')"
   ]
  },
  {
   "cell_type": "code",
   "execution_count": 8,
   "id": "ce998061",
   "metadata": {},
   "outputs": [
    {
     "ename": "SyntaxError",
     "evalue": "invalid syntax (Temp/ipykernel_14112/1359166798.py, line 1)",
     "output_type": "error",
     "traceback": [
      "\u001b[1;36m  File \u001b[1;32m\"C:\\Users\\LENOVO\\AppData\\Local\\Temp/ipykernel_14112/1359166798.py\"\u001b[1;36m, line \u001b[1;32m1\u001b[0m\n\u001b[1;33m    \"\"int\u001b[0m\n\u001b[1;37m      ^\u001b[0m\n\u001b[1;31mSyntaxError\u001b[0m\u001b[1;31m:\u001b[0m invalid syntax\n"
     ]
    }
   ],
   "source": [
    "# Datatypes in python\n",
    "\n",
    "# int-----2,3,4,5,6,67,78,99\n",
    "# float-----2.4,4.5,67.8...\n",
    "# string----'name','place'\n",
    "# boolean----True ,False"
   ]
  },
  {
   "cell_type": "code",
   "execution_count": 9,
   "id": "8b7c017b",
   "metadata": {},
   "outputs": [
    {
     "data": {
      "text/plain": [
       "42354569"
      ]
     },
     "execution_count": 9,
     "metadata": {},
     "output_type": "execute_result"
    }
   ],
   "source": [
    "42354569 # integer datatype\n"
   ]
  },
  {
   "cell_type": "code",
   "execution_count": 10,
   "id": "77bdacd7",
   "metadata": {},
   "outputs": [
    {
     "data": {
      "text/plain": [
       "53853.4645"
      ]
     },
     "execution_count": 10,
     "metadata": {},
     "output_type": "execute_result"
    }
   ],
   "source": [
    "53853.4645 # float datatype"
   ]
  },
  {
   "cell_type": "code",
   "execution_count": 11,
   "id": "4aac400c",
   "metadata": {},
   "outputs": [
    {
     "data": {
      "text/plain": [
       "'tfkutfluyf'"
      ]
     },
     "execution_count": 11,
     "metadata": {},
     "output_type": "execute_result"
    }
   ],
   "source": [
    "'tfkutfluyf'  # string datatype"
   ]
  },
  {
   "cell_type": "code",
   "execution_count": 12,
   "id": "d682bf77",
   "metadata": {},
   "outputs": [
    {
     "data": {
      "text/plain": [
       "\"neeraj's laptop\""
      ]
     },
     "execution_count": 12,
     "metadata": {},
     "output_type": "execute_result"
    }
   ],
   "source": [
    "\"neeraj's laptop\" # string datatype"
   ]
  },
  {
   "cell_type": "code",
   "execution_count": 13,
   "id": "ed755338",
   "metadata": {},
   "outputs": [
    {
     "data": {
      "text/plain": [
       "'dsfsfojfneg\\nsfsofojkndogjkeng\\nosjfwnfojneqwog\\nwojeneogeuneogueng'"
      ]
     },
     "execution_count": 13,
     "metadata": {},
     "output_type": "execute_result"
    }
   ],
   "source": [
    "'''dsfsfojfneg\n",
    "sfsofojkndogjkeng\n",
    "osjfwnfojneqwog            # string datatype\n",
    "wojeneogeuneogueng'''"
   ]
  },
  {
   "cell_type": "code",
   "execution_count": 14,
   "id": "681f38ca",
   "metadata": {},
   "outputs": [
    {
     "data": {
      "text/plain": [
       "(True, False)"
      ]
     },
     "execution_count": 14,
     "metadata": {},
     "output_type": "execute_result"
    }
   ],
   "source": [
    "True,False"
   ]
  },
  {
   "cell_type": "code",
   "execution_count": 15,
   "id": "c8734882",
   "metadata": {},
   "outputs": [
    {
     "data": {
      "text/plain": [
       "True"
      ]
     },
     "execution_count": 15,
     "metadata": {},
     "output_type": "execute_result"
    }
   ],
   "source": [
    "2>1"
   ]
  },
  {
   "cell_type": "code",
   "execution_count": 16,
   "id": "73278fce",
   "metadata": {},
   "outputs": [
    {
     "data": {
      "text/plain": [
       "6"
      ]
     },
     "execution_count": 16,
     "metadata": {},
     "output_type": "execute_result"
    }
   ],
   "source": [
    "2+4"
   ]
  },
  {
   "cell_type": "markdown",
   "id": "a2f468b0",
   "metadata": {},
   "source": [
    "# Operators in python"
   ]
  },
  {
   "cell_type": "code",
   "execution_count": 17,
   "id": "922fc3d5",
   "metadata": {},
   "outputs": [],
   "source": [
    "# airthmatic operator\n",
    "# assignment operator\n",
    "# comparision operator\n",
    "# logical operator "
   ]
  },
  {
   "cell_type": "code",
   "execution_count": 1,
   "id": "485d0edb",
   "metadata": {},
   "outputs": [],
   "source": [
    "# +,-,*,/,//,%  ------ airthmatic operator"
   ]
  },
  {
   "cell_type": "code",
   "execution_count": 19,
   "id": "e6545522",
   "metadata": {},
   "outputs": [
    {
     "ename": "SyntaxError",
     "evalue": "invalid syntax (Temp/ipykernel_14112/2868989483.py, line 1)",
     "output_type": "error",
     "traceback": [
      "\u001b[1;36m  File \u001b[1;32m\"C:\\Users\\LENOVO\\AppData\\Local\\Temp/ipykernel_14112/2868989483.py\"\u001b[1;36m, line \u001b[1;32m1\u001b[0m\n\u001b[1;33m    //()(\"\")\u001b[0m\n\u001b[1;37m    ^\u001b[0m\n\u001b[1;31mSyntaxError\u001b[0m\u001b[1;31m:\u001b[0m invalid syntax\n"
     ]
    }
   ],
   "source": [
    "# /,//"
   ]
  },
  {
   "cell_type": "code",
   "execution_count": 20,
   "id": "f764db06",
   "metadata": {},
   "outputs": [
    {
     "data": {
      "text/plain": [
       "8"
      ]
     },
     "execution_count": 20,
     "metadata": {},
     "output_type": "execute_result"
    }
   ],
   "source": [
    "3+5"
   ]
  },
  {
   "cell_type": "code",
   "execution_count": 23,
   "id": "c4bbe037",
   "metadata": {},
   "outputs": [
    {
     "data": {
      "text/plain": [
       "1.3333333333333333"
      ]
     },
     "execution_count": 23,
     "metadata": {},
     "output_type": "execute_result"
    }
   ],
   "source": [
    "4/3"
   ]
  },
  {
   "cell_type": "code",
   "execution_count": 24,
   "id": "fc69f00b",
   "metadata": {},
   "outputs": [
    {
     "data": {
      "text/plain": [
       "1"
      ]
     },
     "execution_count": 24,
     "metadata": {},
     "output_type": "execute_result"
    }
   ],
   "source": [
    "4//3"
   ]
  },
  {
   "cell_type": "code",
   "execution_count": 25,
   "id": "bf24003f",
   "metadata": {},
   "outputs": [
    {
     "data": {
      "text/plain": [
       "20"
      ]
     },
     "execution_count": 25,
     "metadata": {},
     "output_type": "execute_result"
    }
   ],
   "source": [
    "5*4"
   ]
  },
  {
   "cell_type": "code",
   "execution_count": 26,
   "id": "9b19d8b5",
   "metadata": {},
   "outputs": [],
   "source": [
    "s = 2"
   ]
  },
  {
   "cell_type": "code",
   "execution_count": 27,
   "id": "caa26848",
   "metadata": {},
   "outputs": [
    {
     "data": {
      "text/plain": [
       "2"
      ]
     },
     "execution_count": 27,
     "metadata": {},
     "output_type": "execute_result"
    }
   ],
   "source": [
    "s"
   ]
  },
  {
   "cell_type": "code",
   "execution_count": 28,
   "id": "b6f973cb",
   "metadata": {},
   "outputs": [],
   "source": [
    "s = 3"
   ]
  },
  {
   "cell_type": "code",
   "execution_count": 29,
   "id": "d6ab1792",
   "metadata": {},
   "outputs": [
    {
     "data": {
      "text/plain": [
       "3"
      ]
     },
     "execution_count": 29,
     "metadata": {},
     "output_type": "execute_result"
    }
   ],
   "source": [
    "s"
   ]
  },
  {
   "cell_type": "code",
   "execution_count": 30,
   "id": "c020cc40",
   "metadata": {},
   "outputs": [],
   "source": [
    "s+=4   # s = s+4"
   ]
  },
  {
   "cell_type": "code",
   "execution_count": 32,
   "id": "3b91d517",
   "metadata": {},
   "outputs": [],
   "source": [
    "s-=2"
   ]
  },
  {
   "cell_type": "code",
   "execution_count": 33,
   "id": "56c914a2",
   "metadata": {},
   "outputs": [
    {
     "data": {
      "text/plain": [
       "5"
      ]
     },
     "execution_count": 33,
     "metadata": {},
     "output_type": "execute_result"
    }
   ],
   "source": [
    "s"
   ]
  },
  {
   "cell_type": "code",
   "execution_count": 2,
   "id": "df288d93",
   "metadata": {},
   "outputs": [],
   "source": [
    "# ==,!=,>,<,<=,>= -----Comparision operator"
   ]
  },
  {
   "cell_type": "code",
   "execution_count": 35,
   "id": "baa97239",
   "metadata": {},
   "outputs": [
    {
     "data": {
      "text/plain": [
       "False"
      ]
     },
     "execution_count": 35,
     "metadata": {},
     "output_type": "execute_result"
    }
   ],
   "source": [
    "3==4"
   ]
  },
  {
   "cell_type": "code",
   "execution_count": 36,
   "id": "ed77446a",
   "metadata": {},
   "outputs": [
    {
     "data": {
      "text/plain": [
       "True"
      ]
     },
     "execution_count": 36,
     "metadata": {},
     "output_type": "execute_result"
    }
   ],
   "source": [
    "3>2"
   ]
  },
  {
   "cell_type": "code",
   "execution_count": 37,
   "id": "e3578690",
   "metadata": {},
   "outputs": [
    {
     "data": {
      "text/plain": [
       "True"
      ]
     },
     "execution_count": 37,
     "metadata": {},
     "output_type": "execute_result"
    }
   ],
   "source": [
    "4>=4"
   ]
  },
  {
   "cell_type": "code",
   "execution_count": 38,
   "id": "4449e3ec",
   "metadata": {},
   "outputs": [
    {
     "ename": "SyntaxError",
     "evalue": "invalid syntax (Temp/ipykernel_14112/502767682.py, line 1)",
     "output_type": "error",
     "traceback": [
      "\u001b[1;36m  File \u001b[1;32m\"C:\\Users\\LENOVO\\AppData\\Local\\Temp/ipykernel_14112/502767682.py\"\u001b[1;36m, line \u001b[1;32m1\u001b[0m\n\u001b[1;33m    and,or,not,in\u001b[0m\n\u001b[1;37m    ^\u001b[0m\n\u001b[1;31mSyntaxError\u001b[0m\u001b[1;31m:\u001b[0m invalid syntax\n"
     ]
    }
   ],
   "source": [
    "# and,or,not,in  -----  logical operator"
   ]
  },
  {
   "cell_type": "code",
   "execution_count": 39,
   "id": "0a6c48f3",
   "metadata": {},
   "outputs": [
    {
     "data": {
      "text/plain": [
       "False"
      ]
     },
     "execution_count": 39,
     "metadata": {},
     "output_type": "execute_result"
    }
   ],
   "source": [
    "3>4 and 3>2"
   ]
  },
  {
   "cell_type": "code",
   "execution_count": 40,
   "id": "b8d6d5c0",
   "metadata": {},
   "outputs": [
    {
     "data": {
      "text/plain": [
       "True"
      ]
     },
     "execution_count": 40,
     "metadata": {},
     "output_type": "execute_result"
    }
   ],
   "source": [
    "3>4 or 3>2"
   ]
  },
  {
   "cell_type": "code",
   "execution_count": 43,
   "id": "3842beb3",
   "metadata": {},
   "outputs": [
    {
     "data": {
      "text/plain": [
       "False"
      ]
     },
     "execution_count": 43,
     "metadata": {},
     "output_type": "execute_result"
    }
   ],
   "source": [
    "2 in [3,4,5,6,7]"
   ]
  },
  {
   "cell_type": "code",
   "execution_count": 44,
   "id": "61a8f3be",
   "metadata": {},
   "outputs": [
    {
     "data": {
      "text/plain": [
       "True"
      ]
     },
     "execution_count": 44,
     "metadata": {},
     "output_type": "execute_result"
    }
   ],
   "source": [
    "(3>4) or (4>2 and 5>4)"
   ]
  },
  {
   "cell_type": "code",
   "execution_count": 45,
   "id": "b18ee863",
   "metadata": {},
   "outputs": [
    {
     "data": {
      "text/plain": [
       "False"
      ]
     },
     "execution_count": 45,
     "metadata": {},
     "output_type": "execute_result"
    }
   ],
   "source": [
    "11>13 and (13<12 or 45>34)"
   ]
  },
  {
   "cell_type": "code",
   "execution_count": 46,
   "id": "af6d77a6",
   "metadata": {},
   "outputs": [
    {
     "data": {
      "text/plain": [
       "True"
      ]
     },
     "execution_count": 46,
     "metadata": {},
     "output_type": "execute_result"
    }
   ],
   "source": [
    "(14>12) and (16>13 or (16>8 and 19<13))"
   ]
  },
  {
   "cell_type": "markdown",
   "id": "382ccb98",
   "metadata": {},
   "source": [
    "# string"
   ]
  },
  {
   "cell_type": "code",
   "execution_count": 47,
   "id": "609226f4",
   "metadata": {},
   "outputs": [],
   "source": [
    "a = 'neeraj'"
   ]
  },
  {
   "cell_type": "code",
   "execution_count": 48,
   "id": "8eb3d62f",
   "metadata": {},
   "outputs": [
    {
     "data": {
      "text/plain": [
       "'neeraj'"
      ]
     },
     "execution_count": 48,
     "metadata": {},
     "output_type": "execute_result"
    }
   ],
   "source": [
    "a"
   ]
  },
  {
   "cell_type": "code",
   "execution_count": 49,
   "id": "d34ae384",
   "metadata": {},
   "outputs": [
    {
     "data": {
      "text/plain": [
       "str"
      ]
     },
     "execution_count": 49,
     "metadata": {},
     "output_type": "execute_result"
    }
   ],
   "source": [
    "type(a)"
   ]
  },
  {
   "cell_type": "code",
   "execution_count": 50,
   "id": "3cb65233",
   "metadata": {},
   "outputs": [],
   "source": [
    "a = 4"
   ]
  },
  {
   "cell_type": "code",
   "execution_count": 51,
   "id": "675ce605",
   "metadata": {},
   "outputs": [
    {
     "data": {
      "text/plain": [
       "int"
      ]
     },
     "execution_count": 51,
     "metadata": {},
     "output_type": "execute_result"
    }
   ],
   "source": [
    "type(a)"
   ]
  },
  {
   "cell_type": "code",
   "execution_count": 55,
   "id": "cd29e856",
   "metadata": {},
   "outputs": [],
   "source": [
    "a = 5\n",
    "b = 7\n",
    "c = 4\n",
    "d = 12"
   ]
  },
  {
   "cell_type": "code",
   "execution_count": 56,
   "id": "4b7d7164",
   "metadata": {},
   "outputs": [
    {
     "data": {
      "text/plain": [
       "False"
      ]
     },
     "execution_count": 56,
     "metadata": {},
     "output_type": "execute_result"
    }
   ],
   "source": [
    "a>c and b<a or (d>a and a>b)"
   ]
  },
  {
   "cell_type": "code",
   "execution_count": 57,
   "id": "62f30f4b",
   "metadata": {},
   "outputs": [],
   "source": [
    "a = 'this is a laptop'"
   ]
  },
  {
   "cell_type": "code",
   "execution_count": 58,
   "id": "0674f5b0",
   "metadata": {},
   "outputs": [
    {
     "data": {
      "text/plain": [
       "16"
      ]
     },
     "execution_count": 58,
     "metadata": {},
     "output_type": "execute_result"
    }
   ],
   "source": [
    "len(a)"
   ]
  },
  {
   "cell_type": "code",
   "execution_count": 59,
   "id": "1fd71eda",
   "metadata": {},
   "outputs": [
    {
     "data": {
      "text/plain": [
       "'this is a laptop'"
      ]
     },
     "execution_count": 59,
     "metadata": {},
     "output_type": "execute_result"
    }
   ],
   "source": [
    "a"
   ]
  },
  {
   "cell_type": "markdown",
   "id": "1563b1c0",
   "metadata": {},
   "source": [
    "# string slicing"
   ]
  },
  {
   "cell_type": "code",
   "execution_count": 61,
   "id": "52c85a1e",
   "metadata": {},
   "outputs": [
    {
     "data": {
      "text/plain": [
       "'this'"
      ]
     },
     "execution_count": 61,
     "metadata": {},
     "output_type": "execute_result"
    }
   ],
   "source": [
    "a[0:4]"
   ]
  },
  {
   "cell_type": "code",
   "execution_count": 65,
   "id": "5d15c89f",
   "metadata": {},
   "outputs": [
    {
     "data": {
      "text/plain": [
       "'this is a laptop'"
      ]
     },
     "execution_count": 65,
     "metadata": {},
     "output_type": "execute_result"
    }
   ],
   "source": [
    "a[0:16]"
   ]
  },
  {
   "cell_type": "code",
   "execution_count": 66,
   "id": "dbc184e1",
   "metadata": {},
   "outputs": [
    {
     "data": {
      "text/plain": [
       "'ti salpo'"
      ]
     },
     "execution_count": 66,
     "metadata": {},
     "output_type": "execute_result"
    }
   ],
   "source": [
    "a[0:16:2]"
   ]
  },
  {
   "cell_type": "code",
   "execution_count": 71,
   "id": "7ca33944",
   "metadata": {},
   "outputs": [
    {
     "data": {
      "text/plain": [
       "'iaao'"
      ]
     },
     "execution_count": 71,
     "metadata": {},
     "output_type": "execute_result"
    }
   ],
   "source": [
    "a[5:16:3]"
   ]
  },
  {
   "cell_type": "code",
   "execution_count": 74,
   "id": "ea2fe023",
   "metadata": {},
   "outputs": [
    {
     "data": {
      "text/plain": [
       "'ti salpo'"
      ]
     },
     "execution_count": 74,
     "metadata": {},
     "output_type": "execute_result"
    }
   ],
   "source": [
    "a[::2]"
   ]
  },
  {
   "cell_type": "code",
   "execution_count": null,
   "id": "071513b7",
   "metadata": {},
   "outputs": [],
   "source": [
    "\n",
    "'this is a laptop'\n",
    "012345678919....."
   ]
  },
  {
   "cell_type": "code",
   "execution_count": 75,
   "id": "9c240852",
   "metadata": {},
   "outputs": [
    {
     "data": {
      "text/plain": [
       "'p'"
      ]
     },
     "execution_count": 75,
     "metadata": {},
     "output_type": "execute_result"
    }
   ],
   "source": [
    "a[-1]"
   ]
  },
  {
   "cell_type": "code",
   "execution_count": 76,
   "id": "b3db7135",
   "metadata": {},
   "outputs": [
    {
     "data": {
      "text/plain": [
       "'a'"
      ]
     },
     "execution_count": 76,
     "metadata": {},
     "output_type": "execute_result"
    }
   ],
   "source": [
    "a[-5]"
   ]
  },
  {
   "cell_type": "code",
   "execution_count": 78,
   "id": "9d936a7d",
   "metadata": {},
   "outputs": [
    {
     "data": {
      "text/plain": [
       "'apto'"
      ]
     },
     "execution_count": 78,
     "metadata": {},
     "output_type": "execute_result"
    }
   ],
   "source": [
    "a[-5:-1]"
   ]
  },
  {
   "cell_type": "code",
   "execution_count": 79,
   "id": "bea44314",
   "metadata": {},
   "outputs": [
    {
     "data": {
      "text/plain": [
       "'potpal'"
      ]
     },
     "execution_count": 79,
     "metadata": {},
     "output_type": "execute_result"
    }
   ],
   "source": [
    "'potpal'"
   ]
  },
  {
   "cell_type": "code",
   "execution_count": 83,
   "id": "4780b620",
   "metadata": {},
   "outputs": [
    {
     "data": {
      "text/plain": [
       "'potpal'"
      ]
     },
     "execution_count": 83,
     "metadata": {},
     "output_type": "execute_result"
    }
   ],
   "source": [
    "a[:-7:-1]"
   ]
  },
  {
   "cell_type": "code",
   "execution_count": 84,
   "id": "3102e493",
   "metadata": {},
   "outputs": [
    {
     "data": {
      "text/plain": [
       "'this is a laptop'"
      ]
     },
     "execution_count": 84,
     "metadata": {},
     "output_type": "execute_result"
    }
   ],
   "source": [
    "a"
   ]
  },
  {
   "cell_type": "code",
   "execution_count": 85,
   "id": "1e50988e",
   "metadata": {},
   "outputs": [
    {
     "data": {
      "text/plain": [
       "'this is a laptop'"
      ]
     },
     "execution_count": 85,
     "metadata": {},
     "output_type": "execute_result"
    }
   ],
   "source": [
    "a[0:]"
   ]
  },
  {
   "cell_type": "code",
   "execution_count": 86,
   "id": "d850894e",
   "metadata": {},
   "outputs": [
    {
     "data": {
      "text/plain": [
       "'ph'"
      ]
     },
     "execution_count": 86,
     "metadata": {},
     "output_type": "execute_result"
    }
   ],
   "source": [
    "a[:-16:-14]"
   ]
  },
  {
   "cell_type": "code",
   "execution_count": 87,
   "id": "0428071c",
   "metadata": {},
   "outputs": [
    {
     "data": {
      "text/plain": [
       "'siht'"
      ]
     },
     "execution_count": 87,
     "metadata": {},
     "output_type": "execute_result"
    }
   ],
   "source": [
    "'siht'"
   ]
  },
  {
   "cell_type": "code",
   "execution_count": 90,
   "id": "93535aa1",
   "metadata": {},
   "outputs": [
    {
     "data": {
      "text/plain": [
       "'potpal a si '"
      ]
     },
     "execution_count": 90,
     "metadata": {},
     "output_type": "execute_result"
    }
   ],
   "source": [
    "a[:-13:-1]"
   ]
  },
  {
   "cell_type": "code",
   "execution_count": 94,
   "id": "31fe390f",
   "metadata": {},
   "outputs": [
    {
     "data": {
      "text/plain": [
       "' sih'"
      ]
     },
     "execution_count": 94,
     "metadata": {},
     "output_type": "execute_result"
    }
   ],
   "source": [
    "a[4:-16:-1]"
   ]
  },
  {
   "cell_type": "code",
   "execution_count": 98,
   "id": "aab70f92",
   "metadata": {},
   "outputs": [
    {
     "data": {
      "text/plain": [
       "'siht'"
      ]
     },
     "execution_count": 98,
     "metadata": {},
     "output_type": "execute_result"
    }
   ],
   "source": [
    "a[-13:-17:-1]"
   ]
  },
  {
   "cell_type": "code",
   "execution_count": 102,
   "id": "eef7ed35",
   "metadata": {},
   "outputs": [
    {
     "data": {
      "text/plain": [
       "'potpal a si siht'"
      ]
     },
     "execution_count": 102,
     "metadata": {},
     "output_type": "execute_result"
    }
   ],
   "source": [
    "a[::-1]"
   ]
  },
  {
   "cell_type": "code",
   "execution_count": 103,
   "id": "226d247b",
   "metadata": {},
   "outputs": [
    {
     "data": {
      "text/plain": [
       "'this is a laptop'"
      ]
     },
     "execution_count": 103,
     "metadata": {},
     "output_type": "execute_result"
    }
   ],
   "source": [
    "a"
   ]
  },
  {
   "cell_type": "code",
   "execution_count": 104,
   "id": "61781c04",
   "metadata": {},
   "outputs": [
    {
     "data": {
      "text/plain": [
       "'a si'"
      ]
     },
     "execution_count": 104,
     "metadata": {},
     "output_type": "execute_result"
    }
   ],
   "source": [
    "a[-8:-12:-1]"
   ]
  },
  {
   "cell_type": "code",
   "execution_count": 105,
   "id": "1ab66dc7",
   "metadata": {},
   "outputs": [],
   "source": [
    "b = 'not it'"
   ]
  },
  {
   "cell_type": "code",
   "execution_count": 106,
   "id": "1dde2e25",
   "metadata": {},
   "outputs": [
    {
     "data": {
      "text/plain": [
       "'this is a laptop'"
      ]
     },
     "execution_count": 106,
     "metadata": {},
     "output_type": "execute_result"
    }
   ],
   "source": [
    "a"
   ]
  },
  {
   "cell_type": "code",
   "execution_count": 108,
   "id": "d08fb4e2",
   "metadata": {},
   "outputs": [
    {
     "data": {
      "text/plain": [
       "'this is a laptop not it'"
      ]
     },
     "execution_count": 108,
     "metadata": {},
     "output_type": "execute_result"
    }
   ],
   "source": [
    "a+' '+b"
   ]
  },
  {
   "cell_type": "code",
   "execution_count": 112,
   "id": "45daaa34",
   "metadata": {},
   "outputs": [
    {
     "data": {
      "text/plain": [
       "2"
      ]
     },
     "execution_count": 112,
     "metadata": {},
     "output_type": "execute_result"
    }
   ],
   "source": [
    "a.count('is')"
   ]
  },
  {
   "cell_type": "code",
   "execution_count": 113,
   "id": "ea0bbf4d",
   "metadata": {},
   "outputs": [],
   "source": [
    "x = '''The Taj Mahal is an ivory-white marble mausoleum on the south bank of the Yamuna river in the Indian city of Agra. It was commissioned in 1632 by the Mughal emperor, Shah Jahan, to house the tomb of his favourite wife, Mumtaz Mahal. The tomb is the centrepiece of a 17-hectare complex, which includes a mosque and a guest house, and is set in formal gardens bounded on three sides by a crenellated wall.\n",
    "Construction of the mausoleum was essentially completed in 1643 but work continued on other phases of the project for another 10 years. The Taj Mahal complex is believed to have been completed in its entirety in 1653 at a cost estimated at the time to be around 32 million rupees, which in 2015 would be approximately 52.8 billion rupees. The construction project employed some 20,000 artisans under the guidance of a board of architects led by the court architect to the emperor, Ustad Ahmad Lahauri.\n",
    "The Taj Mahal was designated as a UNESCO World Heritage Site in 1983 for being \"the jewel of Muslim art in India and one of the universally admired masterpieces of the world's heritage\". It is regarded by many as the best example of Mughal architecture and a symbol of India's rich history.\n",
    "'''"
   ]
  },
  {
   "cell_type": "code",
   "execution_count": 115,
   "id": "c6610ce9",
   "metadata": {},
   "outputs": [
    {
     "data": {
      "text/plain": [
       "3"
      ]
     },
     "execution_count": 115,
     "metadata": {},
     "output_type": "execute_result"
    }
   ],
   "source": [
    "x.count('Taj')"
   ]
  },
  {
   "cell_type": "code",
   "execution_count": 116,
   "id": "db9e486c",
   "metadata": {},
   "outputs": [
    {
     "data": {
      "text/plain": [
       "1197"
      ]
     },
     "execution_count": 116,
     "metadata": {},
     "output_type": "execute_result"
    }
   ],
   "source": [
    "len(x)"
   ]
  },
  {
   "cell_type": "code",
   "execution_count": 117,
   "id": "b3105a12",
   "metadata": {},
   "outputs": [
    {
     "data": {
      "text/plain": [
       "83"
      ]
     },
     "execution_count": 117,
     "metadata": {},
     "output_type": "execute_result"
    }
   ],
   "source": [
    "x.count('a')"
   ]
  },
  {
   "cell_type": "code",
   "execution_count": 118,
   "id": "79bf3d33",
   "metadata": {},
   "outputs": [
    {
     "data": {
      "text/plain": [
       "4"
      ]
     },
     "execution_count": 118,
     "metadata": {},
     "output_type": "execute_result"
    }
   ],
   "source": [
    "x.find('Taj')"
   ]
  },
  {
   "cell_type": "code",
   "execution_count": 123,
   "id": "4aa8e2cd",
   "metadata": {},
   "outputs": [],
   "source": [
    "x = x.upper()"
   ]
  },
  {
   "cell_type": "code",
   "execution_count": 125,
   "id": "a1f18b17",
   "metadata": {},
   "outputs": [
    {
     "data": {
      "text/plain": [
       "'the taj mahal is an ivory-white marble mausoleum on the south bank of the yamuna river in the indian city of agra. it was commissioned in 1632 by the mughal emperor, shah jahan, to house the tomb of his favourite wife, mumtaz mahal. the tomb is the centrepiece of a 17-hectare complex, which includes a mosque and a guest house, and is set in formal gardens bounded on three sides by a crenellated wall.\\nconstruction of the mausoleum was essentially completed in 1643 but work continued on other phases of the project for another 10 years. the taj mahal complex is believed to have been completed in its entirety in 1653 at a cost estimated at the time to be around 32 million rupees, which in 2015 would be approximately 52.8 billion rupees. the construction project employed some 20,000 artisans under the guidance of a board of architects led by the court architect to the emperor, ustad ahmad lahauri.\\nthe taj mahal was designated as a unesco world heritage site in 1983 for being \"the jewel of muslim art in india and one of the universally admired masterpieces of the world\\'s heritage\". it is regarded by many as the best example of mughal architecture and a symbol of india\\'s rich history.\\n'"
      ]
     },
     "execution_count": 125,
     "metadata": {},
     "output_type": "execute_result"
    }
   ],
   "source": [
    "x.lower()"
   ]
  },
  {
   "cell_type": "code",
   "execution_count": 128,
   "id": "8c8d0206",
   "metadata": {},
   "outputs": [
    {
     "data": {
      "text/plain": [
       "'The taj mahal is an ivory-white marble mausoleum on the south bank of the yamuna river in the indian city of agra. it was commissioned in 1632 by the mughal emperor, shah jahan, to house the tomb of his favourite wife, mumtaz mahal. the tomb is the centrepiece of a 17-hectare complex, which includes a mosque and a guest house, and is set in formal gardens bounded on three sides by a crenellated wall.\\nconstruction of the mausoleum was essentially completed in 1643 but work continued on other phases of the project for another 10 years. the taj mahal complex is believed to have been completed in its entirety in 1653 at a cost estimated at the time to be around 32 million rupees, which in 2015 would be approximately 52.8 billion rupees. the construction project employed some 20,000 artisans under the guidance of a board of architects led by the court architect to the emperor, ustad ahmad lahauri.\\nthe taj mahal was designated as a unesco world heritage site in 1983 for being \"the jewel of muslim art in india and one of the universally admired masterpieces of the world\\'s heritage\". it is regarded by many as the best example of mughal architecture and a symbol of india\\'s rich history.\\n'"
      ]
     },
     "execution_count": 128,
     "metadata": {},
     "output_type": "execute_result"
    }
   ],
   "source": [
    "x.capitalize()"
   ]
  },
  {
   "cell_type": "code",
   "execution_count": 131,
   "id": "466205ce",
   "metadata": {},
   "outputs": [
    {
     "data": {
      "text/plain": [
       "['THE',\n",
       " 'TAJ',\n",
       " 'MAHAL',\n",
       " 'IS',\n",
       " 'AN',\n",
       " 'IVORY-WHITE',\n",
       " 'MARBLE',\n",
       " 'MAUSOLEUM',\n",
       " 'ON',\n",
       " 'THE',\n",
       " 'SOUTH',\n",
       " 'BANK',\n",
       " 'OF',\n",
       " 'THE',\n",
       " 'YAMUNA',\n",
       " 'RIVER',\n",
       " 'IN',\n",
       " 'THE',\n",
       " 'INDIAN',\n",
       " 'CITY',\n",
       " 'OF',\n",
       " 'AGRA.',\n",
       " 'IT',\n",
       " 'WAS',\n",
       " 'COMMISSIONED',\n",
       " 'IN',\n",
       " '1632',\n",
       " 'BY',\n",
       " 'THE',\n",
       " 'MUGHAL',\n",
       " 'EMPEROR,',\n",
       " 'SHAH',\n",
       " 'JAHAN,',\n",
       " 'TO',\n",
       " 'HOUSE',\n",
       " 'THE',\n",
       " 'TOMB',\n",
       " 'OF',\n",
       " 'HIS',\n",
       " 'FAVOURITE',\n",
       " 'WIFE,',\n",
       " 'MUMTAZ',\n",
       " 'MAHAL.',\n",
       " 'THE',\n",
       " 'TOMB',\n",
       " 'IS',\n",
       " 'THE',\n",
       " 'CENTREPIECE',\n",
       " 'OF',\n",
       " 'A',\n",
       " '17-HECTARE',\n",
       " 'COMPLEX,',\n",
       " 'WHICH',\n",
       " 'INCLUDES',\n",
       " 'A',\n",
       " 'MOSQUE',\n",
       " 'AND',\n",
       " 'A',\n",
       " 'GUEST',\n",
       " 'HOUSE,',\n",
       " 'AND',\n",
       " 'IS',\n",
       " 'SET',\n",
       " 'IN',\n",
       " 'FORMAL',\n",
       " 'GARDENS',\n",
       " 'BOUNDED',\n",
       " 'ON',\n",
       " 'THREE',\n",
       " 'SIDES',\n",
       " 'BY',\n",
       " 'A',\n",
       " 'CRENELLATED',\n",
       " 'WALL.',\n",
       " 'CONSTRUCTION',\n",
       " 'OF',\n",
       " 'THE',\n",
       " 'MAUSOLEUM',\n",
       " 'WAS',\n",
       " 'ESSENTIALLY',\n",
       " 'COMPLETED',\n",
       " 'IN',\n",
       " '1643',\n",
       " 'BUT',\n",
       " 'WORK',\n",
       " 'CONTINUED',\n",
       " 'ON',\n",
       " 'OTHER',\n",
       " 'PHASES',\n",
       " 'OF',\n",
       " 'THE',\n",
       " 'PROJECT',\n",
       " 'FOR',\n",
       " 'ANOTHER',\n",
       " '10',\n",
       " 'YEARS.',\n",
       " 'THE',\n",
       " 'TAJ',\n",
       " 'MAHAL',\n",
       " 'COMPLEX',\n",
       " 'IS',\n",
       " 'BELIEVED',\n",
       " 'TO',\n",
       " 'HAVE',\n",
       " 'BEEN',\n",
       " 'COMPLETED',\n",
       " 'IN',\n",
       " 'ITS',\n",
       " 'ENTIRETY',\n",
       " 'IN',\n",
       " '1653',\n",
       " 'AT',\n",
       " 'A',\n",
       " 'COST',\n",
       " 'ESTIMATED',\n",
       " 'AT',\n",
       " 'THE',\n",
       " 'TIME',\n",
       " 'TO',\n",
       " 'BE',\n",
       " 'AROUND',\n",
       " '32',\n",
       " 'MILLION',\n",
       " 'RUPEES,',\n",
       " 'WHICH',\n",
       " 'IN',\n",
       " '2015',\n",
       " 'WOULD',\n",
       " 'BE',\n",
       " 'APPROXIMATELY',\n",
       " '52.8',\n",
       " 'BILLION',\n",
       " 'RUPEES.',\n",
       " 'THE',\n",
       " 'CONSTRUCTION',\n",
       " 'PROJECT',\n",
       " 'EMPLOYED',\n",
       " 'SOME',\n",
       " '20,000',\n",
       " 'ARTISANS',\n",
       " 'UNDER',\n",
       " 'THE',\n",
       " 'GUIDANCE',\n",
       " 'OF',\n",
       " 'A',\n",
       " 'BOARD',\n",
       " 'OF',\n",
       " 'ARCHITECTS',\n",
       " 'LED',\n",
       " 'BY',\n",
       " 'THE',\n",
       " 'COURT',\n",
       " 'ARCHITECT',\n",
       " 'TO',\n",
       " 'THE',\n",
       " 'EMPEROR,',\n",
       " 'USTAD',\n",
       " 'AHMAD',\n",
       " 'LAHAURI.',\n",
       " 'THE',\n",
       " 'TAJ',\n",
       " 'MAHAL',\n",
       " 'WAS',\n",
       " 'DESIGNATED',\n",
       " 'AS',\n",
       " 'A',\n",
       " 'UNESCO',\n",
       " 'WORLD',\n",
       " 'HERITAGE',\n",
       " 'SITE',\n",
       " 'IN',\n",
       " '1983',\n",
       " 'FOR',\n",
       " 'BEING',\n",
       " '\"THE',\n",
       " 'JEWEL',\n",
       " 'OF',\n",
       " 'MUSLIM',\n",
       " 'ART',\n",
       " 'IN',\n",
       " 'INDIA',\n",
       " 'AND',\n",
       " 'ONE',\n",
       " 'OF',\n",
       " 'THE',\n",
       " 'UNIVERSALLY',\n",
       " 'ADMIRED',\n",
       " 'MASTERPIECES',\n",
       " 'OF',\n",
       " 'THE',\n",
       " \"WORLD'S\",\n",
       " 'HERITAGE\".',\n",
       " 'IT',\n",
       " 'IS',\n",
       " 'REGARDED',\n",
       " 'BY',\n",
       " 'MANY',\n",
       " 'AS',\n",
       " 'THE',\n",
       " 'BEST',\n",
       " 'EXAMPLE',\n",
       " 'OF',\n",
       " 'MUGHAL',\n",
       " 'ARCHITECTURE',\n",
       " 'AND',\n",
       " 'A',\n",
       " 'SYMBOL',\n",
       " 'OF',\n",
       " \"INDIA'S\",\n",
       " 'RICH',\n",
       " 'HISTORY.']"
      ]
     },
     "execution_count": 131,
     "metadata": {},
     "output_type": "execute_result"
    }
   ],
   "source": [
    "x.split()"
   ]
  },
  {
   "cell_type": "code",
   "execution_count": 132,
   "id": "ef25c849",
   "metadata": {},
   "outputs": [
    {
     "data": {
      "text/plain": [
       "False"
      ]
     },
     "execution_count": 132,
     "metadata": {},
     "output_type": "execute_result"
    }
   ],
   "source": [
    "x.isalpha()"
   ]
  },
  {
   "cell_type": "code",
   "execution_count": 136,
   "id": "ead6b97d",
   "metadata": {},
   "outputs": [
    {
     "data": {
      "text/plain": [
       "True"
      ]
     },
     "execution_count": 136,
     "metadata": {},
     "output_type": "execute_result"
    }
   ],
   "source": [
    "a.isascii()"
   ]
  },
  {
   "cell_type": "code",
   "execution_count": 137,
   "id": "bf54324f",
   "metadata": {},
   "outputs": [
    {
     "data": {
      "text/plain": [
       "'The Taj Mahal Is An Ivory-White Marble Mausoleum On The South Bank Of The Yamuna River In The Indian City Of Agra. It Was Commissioned In 1632 By The Mughal Emperor, Shah Jahan, To House The Tomb Of His Favourite Wife, Mumtaz Mahal. The Tomb Is The Centrepiece Of A 17-Hectare Complex, Which Includes A Mosque And A Guest House, And Is Set In Formal Gardens Bounded On Three Sides By A Crenellated Wall.\\nConstruction Of The Mausoleum Was Essentially Completed In 1643 But Work Continued On Other Phases Of The Project For Another 10 Years. The Taj Mahal Complex Is Believed To Have Been Completed In Its Entirety In 1653 At A Cost Estimated At The Time To Be Around 32 Million Rupees, Which In 2015 Would Be Approximately 52.8 Billion Rupees. The Construction Project Employed Some 20,000 Artisans Under The Guidance Of A Board Of Architects Led By The Court Architect To The Emperor, Ustad Ahmad Lahauri.\\nThe Taj Mahal Was Designated As A Unesco World Heritage Site In 1983 For Being \"The Jewel Of Muslim Art In India And One Of The Universally Admired Masterpieces Of The World\\'S Heritage\". It Is Regarded By Many As The Best Example Of Mughal Architecture And A Symbol Of India\\'S Rich History.\\n'"
      ]
     },
     "execution_count": 137,
     "metadata": {},
     "output_type": "execute_result"
    }
   ],
   "source": [
    "x.title()"
   ]
  },
  {
   "cell_type": "code",
   "execution_count": 142,
   "id": "8ef8b100",
   "metadata": {},
   "outputs": [
    {
     "data": {
      "text/plain": [
       "-1"
      ]
     },
     "execution_count": 142,
     "metadata": {},
     "output_type": "execute_result"
    }
   ],
   "source": [
    "a.find('z')"
   ]
  },
  {
   "cell_type": "code",
   "execution_count": 143,
   "id": "6437b4e8",
   "metadata": {},
   "outputs": [
    {
     "ename": "ValueError",
     "evalue": "substring not found",
     "output_type": "error",
     "traceback": [
      "\u001b[1;31m---------------------------------------------------------------------------\u001b[0m",
      "\u001b[1;31mValueError\u001b[0m                                Traceback (most recent call last)",
      "\u001b[1;32m~\\AppData\\Local\\Temp/ipykernel_14112/3281664942.py\u001b[0m in \u001b[0;36m<module>\u001b[1;34m\u001b[0m\n\u001b[1;32m----> 1\u001b[1;33m \u001b[0ma\u001b[0m\u001b[1;33m.\u001b[0m\u001b[0mindex\u001b[0m\u001b[1;33m(\u001b[0m\u001b[1;34m'z'\u001b[0m\u001b[1;33m)\u001b[0m\u001b[1;33m\u001b[0m\u001b[1;33m\u001b[0m\u001b[0m\n\u001b[0m",
      "\u001b[1;31mValueError\u001b[0m: substring not found"
     ]
    }
   ],
   "source": [
    "a.index('z')"
   ]
  },
  {
   "cell_type": "code",
   "execution_count": 140,
   "id": "0004ff58",
   "metadata": {},
   "outputs": [
    {
     "data": {
      "text/plain": [
       "'this is a laptop'"
      ]
     },
     "execution_count": 140,
     "metadata": {},
     "output_type": "execute_result"
    }
   ],
   "source": [
    "a"
   ]
  },
  {
   "cell_type": "code",
   "execution_count": 153,
   "id": "8b43541a",
   "metadata": {},
   "outputs": [],
   "source": [
    "b = '3182358'"
   ]
  },
  {
   "cell_type": "code",
   "execution_count": 154,
   "id": "c347b18d",
   "metadata": {},
   "outputs": [
    {
     "data": {
      "text/plain": [
       "str"
      ]
     },
     "execution_count": 154,
     "metadata": {},
     "output_type": "execute_result"
    }
   ],
   "source": [
    "type(b)"
   ]
  },
  {
   "cell_type": "code",
   "execution_count": 155,
   "id": "507983d3",
   "metadata": {},
   "outputs": [
    {
     "data": {
      "text/plain": [
       "True"
      ]
     },
     "execution_count": 155,
     "metadata": {},
     "output_type": "execute_result"
    }
   ],
   "source": [
    "b.isnumeric()"
   ]
  },
  {
   "cell_type": "code",
   "execution_count": 156,
   "id": "f5da5a54",
   "metadata": {},
   "outputs": [
    {
     "data": {
      "text/plain": [
       "True"
      ]
     },
     "execution_count": 156,
     "metadata": {},
     "output_type": "execute_result"
    }
   ],
   "source": [
    "b.isdigit()"
   ]
  },
  {
   "cell_type": "code",
   "execution_count": 160,
   "id": "5c38dea4",
   "metadata": {},
   "outputs": [],
   "source": [
    "b = '  &28453936'"
   ]
  },
  {
   "cell_type": "code",
   "execution_count": 162,
   "id": "e2fad782",
   "metadata": {},
   "outputs": [
    {
     "data": {
      "text/plain": [
       "'  &28453936'"
      ]
     },
     "execution_count": 162,
     "metadata": {},
     "output_type": "execute_result"
    }
   ],
   "source": [
    "b"
   ]
  },
  {
   "cell_type": "code",
   "execution_count": 158,
   "id": "6dc31156",
   "metadata": {},
   "outputs": [
    {
     "data": {
      "text/plain": [
       "True"
      ]
     },
     "execution_count": 158,
     "metadata": {},
     "output_type": "execute_result"
    }
   ],
   "source": [
    "b.isascii()"
   ]
  },
  {
   "cell_type": "code",
   "execution_count": 159,
   "id": "b8d733ce",
   "metadata": {},
   "outputs": [
    {
     "data": {
      "text/plain": [
       "True"
      ]
     },
     "execution_count": 159,
     "metadata": {},
     "output_type": "execute_result"
    }
   ],
   "source": [
    "b.isprintable()"
   ]
  },
  {
   "cell_type": "code",
   "execution_count": 161,
   "id": "0b7796c5",
   "metadata": {},
   "outputs": [
    {
     "data": {
      "text/plain": [
       "'&28453936'"
      ]
     },
     "execution_count": 161,
     "metadata": {},
     "output_type": "execute_result"
    }
   ],
   "source": [
    "b.strip()"
   ]
  },
  {
   "cell_type": "code",
   "execution_count": 163,
   "id": "346e9a99",
   "metadata": {},
   "outputs": [
    {
     "data": {
      "text/plain": [
       "'this is a laptop'"
      ]
     },
     "execution_count": 163,
     "metadata": {},
     "output_type": "execute_result"
    }
   ],
   "source": [
    "a"
   ]
  },
  {
   "cell_type": "code",
   "execution_count": 165,
   "id": "2af497ba",
   "metadata": {},
   "outputs": [],
   "source": [
    "b = 'adjbd'"
   ]
  },
  {
   "cell_type": "code",
   "execution_count": 168,
   "id": "b028518c",
   "metadata": {},
   "outputs": [
    {
     "data": {
      "text/plain": [
       "'thi* i* a laptop'"
      ]
     },
     "execution_count": 168,
     "metadata": {},
     "output_type": "execute_result"
    }
   ],
   "source": [
    "a.replace('s','*')"
   ]
  },
  {
   "cell_type": "code",
   "execution_count": 169,
   "id": "dc4cd7c1",
   "metadata": {},
   "outputs": [
    {
     "data": {
      "text/plain": [
       "'this'"
      ]
     },
     "execution_count": 169,
     "metadata": {},
     "output_type": "execute_result"
    }
   ],
   "source": [
    "a[:4]"
   ]
  },
  {
   "cell_type": "code",
   "execution_count": 170,
   "id": "d8ab3ea8",
   "metadata": {},
   "outputs": [
    {
     "data": {
      "text/plain": [
       "' is a laptop'"
      ]
     },
     "execution_count": 170,
     "metadata": {},
     "output_type": "execute_result"
    }
   ],
   "source": [
    "a[4:]"
   ]
  },
  {
   "cell_type": "code",
   "execution_count": 174,
   "id": "29a79d1a",
   "metadata": {},
   "outputs": [
    {
     "data": {
      "text/plain": [
       "'this   a laptop'"
      ]
     },
     "execution_count": 174,
     "metadata": {},
     "output_type": "execute_result"
    }
   ],
   "source": [
    "a[:4]+' '+a[4:].replace('is','')"
   ]
  },
  {
   "cell_type": "code",
   "execution_count": 175,
   "id": "6ebfdc68",
   "metadata": {},
   "outputs": [
    {
     "data": {
      "text/plain": [
       "'th  a laptop'"
      ]
     },
     "execution_count": 175,
     "metadata": {},
     "output_type": "execute_result"
    }
   ],
   "source": [
    "a.replace('is','')"
   ]
  },
  {
   "cell_type": "code",
   "execution_count": 177,
   "id": "a2e08fe5",
   "metadata": {},
   "outputs": [],
   "source": [
    "a = 5\n",
    "b = 8\n",
    "c = 12"
   ]
  },
  {
   "cell_type": "code",
   "execution_count": 179,
   "id": "59415c40",
   "metadata": {},
   "outputs": [
    {
     "name": "stdout",
     "output_type": "stream",
     "text": [
      "a is smaller number\n"
     ]
    }
   ],
   "source": []
  },
  {
   "cell_type": "code",
   "execution_count": 187,
   "id": "fe1a2a3f",
   "metadata": {},
   "outputs": [
    {
     "name": "stdout",
     "output_type": "stream",
     "text": [
      "please enter the number1 :5\n",
      "please enter the number2 :7\n",
      "please enter the number3 :9\n",
      "c is largest number\n"
     ]
    }
   ],
   "source": [
    "a = float(input('please enter the number1 :'))\n",
    "b = int(input('please enter the number2 :'))\n",
    "c = int(input('please enter the number3 :'))\n",
    "if a>b>c or a>c>b:\n",
    "    print('a is largest number')\n",
    "elif b>a>c or b>c>a:\n",
    "    print('b is largest number')\n",
    "else:\n",
    "    print('c is largest number')"
   ]
  },
  {
   "cell_type": "code",
   "execution_count": 185,
   "id": "a5b243b7",
   "metadata": {},
   "outputs": [
    {
     "data": {
      "text/plain": [
       "4.0"
      ]
     },
     "execution_count": 185,
     "metadata": {},
     "output_type": "execute_result"
    }
   ],
   "source": [
    "a"
   ]
  },
  {
   "cell_type": "code",
   "execution_count": null,
   "id": "ed940c1b",
   "metadata": {},
   "outputs": [],
   "source": []
  }
 ],
 "metadata": {
  "kernelspec": {
   "display_name": "Python 3 (ipykernel)",
   "language": "python",
   "name": "python3"
  },
  "language_info": {
   "codemirror_mode": {
    "name": "ipython",
    "version": 3
   },
   "file_extension": ".py",
   "mimetype": "text/x-python",
   "name": "python",
   "nbconvert_exporter": "python",
   "pygments_lexer": "ipython3",
   "version": "3.9.7"
  }
 },
 "nbformat": 4,
 "nbformat_minor": 5
}
