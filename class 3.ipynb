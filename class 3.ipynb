{
 "cells": [
  {
   "cell_type": "code",
   "execution_count": 1,
   "id": "06bef8b3",
   "metadata": {},
   "outputs": [],
   "source": [
    "l = [2,3,4,5,6]"
   ]
  },
  {
   "cell_type": "code",
   "execution_count": 2,
   "id": "3e5d262d",
   "metadata": {},
   "outputs": [],
   "source": [
    "l.append(9)"
   ]
  },
  {
   "cell_type": "code",
   "execution_count": 3,
   "id": "3e816839",
   "metadata": {},
   "outputs": [
    {
     "data": {
      "text/plain": [
       "[2, 3, 4, 5, 6, 9]"
      ]
     },
     "execution_count": 3,
     "metadata": {},
     "output_type": "execute_result"
    }
   ],
   "source": [
    "l"
   ]
  },
  {
   "cell_type": "code",
   "execution_count": 4,
   "id": "bce201ad",
   "metadata": {},
   "outputs": [],
   "source": [
    "def add(a,b):\n",
    "    return a+b"
   ]
  },
  {
   "cell_type": "code",
   "execution_count": 5,
   "id": "5eaaa9d6",
   "metadata": {},
   "outputs": [
    {
     "data": {
      "text/plain": [
       "7"
      ]
     },
     "execution_count": 5,
     "metadata": {},
     "output_type": "execute_result"
    }
   ],
   "source": [
    "add(3,4)"
   ]
  },
  {
   "cell_type": "code",
   "execution_count": 6,
   "id": "e46e658f",
   "metadata": {},
   "outputs": [],
   "source": [
    "def hello():\n",
    "    print('hello')"
   ]
  },
  {
   "cell_type": "code",
   "execution_count": 7,
   "id": "c6fd164c",
   "metadata": {},
   "outputs": [
    {
     "name": "stdout",
     "output_type": "stream",
     "text": [
      "hello\n"
     ]
    }
   ],
   "source": [
    "hello()"
   ]
  },
  {
   "cell_type": "code",
   "execution_count": 8,
   "id": "51f5223a",
   "metadata": {},
   "outputs": [
    {
     "name": "stdout",
     "output_type": "stream",
     "text": [
      "[0]\n",
      "[3]\n"
     ]
    }
   ],
   "source": [
    "l = [3,4,5,6,8,9]\n",
    "n = len(l)\n",
    "for i in range(0,n,3):\n",
    "    print([i])"
   ]
  },
  {
   "cell_type": "code",
   "execution_count": 9,
   "id": "a87f4890",
   "metadata": {},
   "outputs": [
    {
     "name": "stdout",
     "output_type": "stream",
     "text": [
      "3\n",
      "4\n",
      "5\n",
      "6\n",
      "8\n",
      "9\n"
     ]
    }
   ],
   "source": [
    "for i in l:\n",
    "    print(i)"
   ]
  },
  {
   "cell_type": "code",
   "execution_count": 10,
   "id": "43fa0c12",
   "metadata": {},
   "outputs": [
    {
     "ename": "TypeError",
     "evalue": "bad operand type for unary -: 'builtin_function_or_method'",
     "output_type": "error",
     "traceback": [
      "\u001b[1;31m---------------------------------------------------------------------------\u001b[0m",
      "\u001b[1;31mTypeError\u001b[0m                                 Traceback (most recent call last)",
      "\u001b[1;32m~\\AppData\\Local\\Temp/ipykernel_11524/332312298.py\u001b[0m in \u001b[0;36m<module>\u001b[1;34m\u001b[0m\n\u001b[1;32m----> 1\u001b[1;33m \u001b[1;36m1\u001b[0m\u001b[1;33m-\u001b[0m\u001b[1;33m-\u001b[0m\u001b[1;33m-\u001b[0m\u001b[1;33m-\u001b[0m\u001b[1;33m-\u001b[0m\u001b[1;36m100\u001b[0m\u001b[1;33m-\u001b[0m\u001b[1;33m-\u001b[0m\u001b[1;33m-\u001b[0m\u001b[1;33m-\u001b[0m\u001b[1;33m-\u001b[0m\u001b[0msum\u001b[0m\u001b[1;33m\u001b[0m\u001b[1;33m\u001b[0m\u001b[0m\n\u001b[0m",
      "\u001b[1;31mTypeError\u001b[0m: bad operand type for unary -: 'builtin_function_or_method'"
     ]
    }
   ],
   "source": [
    "1-----100-----sum"
   ]
  },
  {
   "cell_type": "code",
   "execution_count": 11,
   "id": "3294bd9c",
   "metadata": {},
   "outputs": [],
   "source": [
    "s = 0\n",
    "for i in range(1,101):\n",
    "    s = s+i\n",
    "    "
   ]
  },
  {
   "cell_type": "code",
   "execution_count": 12,
   "id": "33561e11",
   "metadata": {},
   "outputs": [
    {
     "name": "stdout",
     "output_type": "stream",
     "text": [
      "enter the number :\n"
     ]
    },
    {
     "ename": "ValueError",
     "evalue": "invalid literal for int() with base 10: ''",
     "output_type": "error",
     "traceback": [
      "\u001b[1;31m---------------------------------------------------------------------------\u001b[0m",
      "\u001b[1;31mValueError\u001b[0m                                Traceback (most recent call last)",
      "\u001b[1;32m~\\AppData\\Local\\Temp/ipykernel_11524/2781226295.py\u001b[0m in \u001b[0;36m<module>\u001b[1;34m\u001b[0m\n\u001b[1;32m----> 1\u001b[1;33m \u001b[0ma\u001b[0m \u001b[1;33m=\u001b[0m \u001b[0mint\u001b[0m\u001b[1;33m(\u001b[0m\u001b[0minput\u001b[0m\u001b[1;33m(\u001b[0m\u001b[1;34m'enter the number :'\u001b[0m\u001b[1;33m)\u001b[0m\u001b[1;33m)\u001b[0m\u001b[1;33m\u001b[0m\u001b[1;33m\u001b[0m\u001b[0m\n\u001b[0m\u001b[0;32m      2\u001b[0m \u001b[1;32mif\u001b[0m \u001b[1;33m(\u001b[0m\u001b[0ma\u001b[0m\u001b[1;33m>=\u001b[0m\u001b[1;36m1\u001b[0m\u001b[1;33m)\u001b[0m \u001b[1;32mand\u001b[0m \u001b[1;33m(\u001b[0m\u001b[0ma\u001b[0m\u001b[1;33m<=\u001b[0m\u001b[1;36m25\u001b[0m\u001b[1;33m)\u001b[0m\u001b[1;33m:\u001b[0m\u001b[1;33m\u001b[0m\u001b[1;33m\u001b[0m\u001b[0m\n\u001b[0;32m      3\u001b[0m     \u001b[0ms\u001b[0m \u001b[1;33m=\u001b[0m \u001b[1;36m0\u001b[0m\u001b[1;33m\u001b[0m\u001b[1;33m\u001b[0m\u001b[0m\n\u001b[0;32m      4\u001b[0m     \u001b[1;32mfor\u001b[0m \u001b[0mi\u001b[0m \u001b[1;32min\u001b[0m \u001b[0mrange\u001b[0m\u001b[1;33m(\u001b[0m\u001b[0ma\u001b[0m\u001b[1;33m+\u001b[0m\u001b[1;36m1\u001b[0m\u001b[1;33m)\u001b[0m\u001b[1;33m:\u001b[0m\u001b[1;33m\u001b[0m\u001b[1;33m\u001b[0m\u001b[0m\n\u001b[0;32m      5\u001b[0m         \u001b[0ms\u001b[0m \u001b[1;33m=\u001b[0m \u001b[0ms\u001b[0m\u001b[1;33m+\u001b[0m\u001b[0mi\u001b[0m\u001b[1;33m\u001b[0m\u001b[1;33m\u001b[0m\u001b[0m\n",
      "\u001b[1;31mValueError\u001b[0m: invalid literal for int() with base 10: ''"
     ]
    }
   ],
   "source": [
    "a = int(input('enter the number :'))\n",
    "if (a>=1) and (a<=25):\n",
    "    s = 0\n",
    "    for i in range(a+1):\n",
    "        s = s+i\n",
    "    print(s)\n",
    "else:\n",
    "    print('invalid')"
   ]
  },
  {
   "cell_type": "code",
   "execution_count": 13,
   "id": "efb0d585",
   "metadata": {},
   "outputs": [
    {
     "ename": "SyntaxError",
     "evalue": "invalid syntax (Temp/ipykernel_11524/3882157624.py, line 1)",
     "output_type": "error",
     "traceback": [
      "\u001b[1;36m  File \u001b[1;32m\"C:\\Users\\LENOVO\\AppData\\Local\\Temp/ipykernel_11524/3882157624.py\"\u001b[1;36m, line \u001b[1;32m1\u001b[0m\n\u001b[1;33m    * * *\u001b[0m\n\u001b[1;37m      ^\u001b[0m\n\u001b[1;31mSyntaxError\u001b[0m\u001b[1;31m:\u001b[0m invalid syntax\n"
     ]
    }
   ],
   "source": [
    "* * *\n",
    "* * *\n",
    "* * *"
   ]
  },
  {
   "cell_type": "code",
   "execution_count": 14,
   "id": "58a3d539",
   "metadata": {},
   "outputs": [
    {
     "name": "stdout",
     "output_type": "stream",
     "text": [
      "*\n",
      "*\n"
     ]
    }
   ],
   "source": [
    "print('*')\n",
    "print('*')"
   ]
  },
  {
   "cell_type": "code",
   "execution_count": 15,
   "id": "04bf5155",
   "metadata": {},
   "outputs": [
    {
     "name": "stdout",
     "output_type": "stream",
     "text": [
      "*\n",
      "*\n",
      "*\n",
      "*\n",
      "*\n",
      "*\n"
     ]
    }
   ],
   "source": [
    "for i in range(6):\n",
    "    print('*')"
   ]
  },
  {
   "cell_type": "code",
   "execution_count": 16,
   "id": "515981f9",
   "metadata": {},
   "outputs": [
    {
     "ename": "SyntaxError",
     "evalue": "invalid syntax (Temp/ipykernel_11524/3550586482.py, line 1)",
     "output_type": "error",
     "traceback": [
      "\u001b[1;36m  File \u001b[1;32m\"C:\\Users\\LENOVO\\AppData\\Local\\Temp/ipykernel_11524/3550586482.py\"\u001b[1;36m, line \u001b[1;32m1\u001b[0m\n\u001b[1;33m    * * * * * *\u001b[0m\n\u001b[1;37m      ^\u001b[0m\n\u001b[1;31mSyntaxError\u001b[0m\u001b[1;31m:\u001b[0m invalid syntax\n"
     ]
    }
   ],
   "source": [
    " * * * * * *"
   ]
  },
  {
   "cell_type": "code",
   "execution_count": 17,
   "id": "e25ecd13",
   "metadata": {},
   "outputs": [
    {
     "name": "stdout",
     "output_type": "stream",
     "text": [
      "* * * "
     ]
    }
   ],
   "source": [
    "for i in range(3):\n",
    "    print('*',end = ' ')"
   ]
  },
  {
   "cell_type": "code",
   "execution_count": 18,
   "id": "670fc82c",
   "metadata": {},
   "outputs": [
    {
     "name": "stdout",
     "output_type": "stream",
     "text": [
      "00 01 02 \n",
      "10 11 12 \n",
      "20 21 22 \n"
     ]
    }
   ],
   "source": [
    "for i in range(3): #----0,1,2\n",
    "    for j in range(3):\n",
    "        #----0,1,2\n",
    "        print(f'{i}{j}',end = ' ')\n",
    "    print()"
   ]
  },
  {
   "cell_type": "code",
   "execution_count": 19,
   "id": "1819db9d",
   "metadata": {},
   "outputs": [
    {
     "ename": "SyntaxError",
     "evalue": "invalid syntax (Temp/ipykernel_11524/4158321875.py, line 2)",
     "output_type": "error",
     "traceback": [
      "\u001b[1;36m  File \u001b[1;32m\"C:\\Users\\LENOVO\\AppData\\Local\\Temp/ipykernel_11524/4158321875.py\"\u001b[1;36m, line \u001b[1;32m2\u001b[0m\n\u001b[1;33m    * # *\u001b[0m\n\u001b[1;37m      ^\u001b[0m\n\u001b[1;31mSyntaxError\u001b[0m\u001b[1;31m:\u001b[0m invalid syntax\n"
     ]
    }
   ],
   "source": [
    "# * *\n",
    "* # *\n",
    "* * #"
   ]
  },
  {
   "cell_type": "markdown",
   "id": "c9c1d204",
   "metadata": {},
   "source": [
    "# Numpy"
   ]
  },
  {
   "cell_type": "code",
   "execution_count": 20,
   "id": "4051a1c0",
   "metadata": {},
   "outputs": [],
   "source": [
    "a = []"
   ]
  },
  {
   "cell_type": "code",
   "execution_count": 21,
   "id": "b66252b0",
   "metadata": {},
   "outputs": [
    {
     "data": {
      "text/plain": [
       "list"
      ]
     },
     "execution_count": 21,
     "metadata": {},
     "output_type": "execute_result"
    }
   ],
   "source": [
    "type(a)"
   ]
  },
  {
   "cell_type": "code",
   "execution_count": 22,
   "id": "60328a37",
   "metadata": {},
   "outputs": [
    {
     "name": "stdout",
     "output_type": "stream",
     "text": [
      "Requirement already satisfied: numpy in c:\\users\\lenovo\\anaconda3\\lib\\site-packages (1.20.3)\n",
      "Note: you may need to restart the kernel to use updated packages.\n"
     ]
    }
   ],
   "source": [
    "pip install numpy"
   ]
  },
  {
   "cell_type": "code",
   "execution_count": 23,
   "id": "2753002b",
   "metadata": {},
   "outputs": [],
   "source": [
    "import numpy as np"
   ]
  },
  {
   "cell_type": "code",
   "execution_count": 24,
   "id": "01fc13cc",
   "metadata": {},
   "outputs": [],
   "source": [
    "# np.array()\n",
    "# np.arange()\n",
    "# np.linspace()\n",
    "# np.random.randint()\n",
    "\n",
    "# np.zeros()\n",
    "# np.eye()\n",
    "# np.ones()"
   ]
  },
  {
   "cell_type": "code",
   "execution_count": 25,
   "id": "14eebf8b",
   "metadata": {},
   "outputs": [],
   "source": [
    "l = [3,4,5,6,7,8]"
   ]
  },
  {
   "cell_type": "code",
   "execution_count": 26,
   "id": "347c1941",
   "metadata": {},
   "outputs": [
    {
     "data": {
      "text/plain": [
       "list"
      ]
     },
     "execution_count": 26,
     "metadata": {},
     "output_type": "execute_result"
    }
   ],
   "source": [
    "type(l)"
   ]
  },
  {
   "cell_type": "code",
   "execution_count": 27,
   "id": "ae3dd0b5",
   "metadata": {},
   "outputs": [],
   "source": [
    "ar = np.array(l)"
   ]
  },
  {
   "cell_type": "code",
   "execution_count": 28,
   "id": "ad96727b",
   "metadata": {},
   "outputs": [
    {
     "data": {
      "text/plain": [
       "array([3, 4, 5, 6, 7, 8])"
      ]
     },
     "execution_count": 28,
     "metadata": {},
     "output_type": "execute_result"
    }
   ],
   "source": [
    "ar"
   ]
  },
  {
   "cell_type": "code",
   "execution_count": 29,
   "id": "bad579c7",
   "metadata": {},
   "outputs": [],
   "source": [
    "ar = np.array([2,4,6,8,0,6,7,9])"
   ]
  },
  {
   "cell_type": "code",
   "execution_count": 30,
   "id": "d9ee8418",
   "metadata": {},
   "outputs": [
    {
     "data": {
      "text/plain": [
       "array([2, 4, 6, 8, 0, 6, 7, 9])"
      ]
     },
     "execution_count": 30,
     "metadata": {},
     "output_type": "execute_result"
    }
   ],
   "source": [
    "ar"
   ]
  },
  {
   "cell_type": "code",
   "execution_count": 31,
   "id": "ea44e09f",
   "metadata": {},
   "outputs": [
    {
     "data": {
      "text/plain": [
       "numpy.ndarray"
      ]
     },
     "execution_count": 31,
     "metadata": {},
     "output_type": "execute_result"
    }
   ],
   "source": [
    "type(ar)"
   ]
  },
  {
   "cell_type": "code",
   "execution_count": 32,
   "id": "6f34ceba",
   "metadata": {},
   "outputs": [
    {
     "data": {
      "text/plain": [
       "array([ 1,  2,  3,  4,  5,  6,  7,  8,  9, 10, 11, 12, 13, 14, 15, 16, 17,\n",
       "       18, 19])"
      ]
     },
     "execution_count": 32,
     "metadata": {},
     "output_type": "execute_result"
    }
   ],
   "source": [
    "np.arange(1,20,1)"
   ]
  },
  {
   "cell_type": "code",
   "execution_count": 33,
   "id": "6ce048e2",
   "metadata": {},
   "outputs": [
    {
     "data": {
      "text/plain": [
       "array([ 1. ,  1.5,  2. ,  2.5,  3. ,  3.5,  4. ,  4.5,  5. ,  5.5,  6. ,\n",
       "        6.5,  7. ,  7.5,  8. ,  8.5,  9. ,  9.5, 10. , 10.5, 11. , 11.5,\n",
       "       12. , 12.5, 13. , 13.5, 14. , 14.5, 15. , 15.5, 16. , 16.5, 17. ,\n",
       "       17.5, 18. , 18.5, 19. , 19.5])"
      ]
     },
     "execution_count": 33,
     "metadata": {},
     "output_type": "execute_result"
    }
   ],
   "source": [
    "np.arange(1,20,.5)"
   ]
  },
  {
   "cell_type": "code",
   "execution_count": 34,
   "id": "dc178637",
   "metadata": {},
   "outputs": [
    {
     "data": {
      "text/plain": [
       "array([ 1.        ,  1.65517241,  2.31034483,  2.96551724,  3.62068966,\n",
       "        4.27586207,  4.93103448,  5.5862069 ,  6.24137931,  6.89655172,\n",
       "        7.55172414,  8.20689655,  8.86206897,  9.51724138, 10.17241379,\n",
       "       10.82758621, 11.48275862, 12.13793103, 12.79310345, 13.44827586,\n",
       "       14.10344828, 14.75862069, 15.4137931 , 16.06896552, 16.72413793,\n",
       "       17.37931034, 18.03448276, 18.68965517, 19.34482759, 20.        ])"
      ]
     },
     "execution_count": 34,
     "metadata": {},
     "output_type": "execute_result"
    }
   ],
   "source": [
    "np.linspace(1,20,30)"
   ]
  },
  {
   "cell_type": "code",
   "execution_count": 35,
   "id": "f0a77f0a",
   "metadata": {},
   "outputs": [
    {
     "ename": "SyntaxError",
     "evalue": "invalid syntax (Temp/ipykernel_11524/4237191904.py, line 1)",
     "output_type": "error",
     "traceback": [
      "\u001b[1;36m  File \u001b[1;32m\"C:\\Users\\LENOVO\\AppData\\Local\\Temp/ipykernel_11524/4237191904.py\"\u001b[1;36m, line \u001b[1;32m1\u001b[0m\n\u001b[1;33m    1-5===1,2,3,4,5\u001b[0m\n\u001b[1;37m         ^\u001b[0m\n\u001b[1;31mSyntaxError\u001b[0m\u001b[1;31m:\u001b[0m invalid syntax\n"
     ]
    }
   ],
   "source": [
    "1-5===1,2,3,4,5\n",
    "1-5 == 1.,1.5,2,.2,5-----"
   ]
  },
  {
   "cell_type": "code",
   "execution_count": 36,
   "id": "bd696f13",
   "metadata": {},
   "outputs": [
    {
     "data": {
      "text/plain": [
       "array([18, 12,  2,  6, 17, 10, 11,  6, 13,  2,  6,  1,  5, 19,  8, 13, 15,\n",
       "       11, 17, 19, 13, 15, 16,  8,  9, 19,  8,  4,  2, 11])"
      ]
     },
     "execution_count": 36,
     "metadata": {},
     "output_type": "execute_result"
    }
   ],
   "source": [
    "np.random.randint(1,20,30)"
   ]
  },
  {
   "cell_type": "code",
   "execution_count": 37,
   "id": "496a027c",
   "metadata": {},
   "outputs": [
    {
     "data": {
      "text/plain": [
       "[0, 0, 0]"
      ]
     },
     "execution_count": 37,
     "metadata": {},
     "output_type": "execute_result"
    }
   ],
   "source": [
    "[0,0,0]\n",
    "[0,0,0]\n",
    "[0,0,0]"
   ]
  },
  {
   "cell_type": "code",
   "execution_count": 38,
   "id": "a475660a",
   "metadata": {},
   "outputs": [
    {
     "data": {
      "text/plain": [
       "array([[0, 0, 0],\n",
       "       [0, 0, 0],\n",
       "       [0, 0, 0]])"
      ]
     },
     "execution_count": 38,
     "metadata": {},
     "output_type": "execute_result"
    }
   ],
   "source": [
    "np.zeros((3,3),dtype = int)"
   ]
  },
  {
   "cell_type": "code",
   "execution_count": 39,
   "id": "22f22c17",
   "metadata": {},
   "outputs": [
    {
     "data": {
      "text/plain": [
       "array([[1, 0, 0],\n",
       "       [0, 1, 0],\n",
       "       [0, 0, 1]])"
      ]
     },
     "execution_count": 39,
     "metadata": {},
     "output_type": "execute_result"
    }
   ],
   "source": [
    "np.eye(3,3,dtype = int)"
   ]
  },
  {
   "cell_type": "code",
   "execution_count": 40,
   "id": "847c8275",
   "metadata": {},
   "outputs": [
    {
     "data": {
      "text/plain": [
       "array([[1, 1, 1],\n",
       "       [1, 1, 1],\n",
       "       [1, 1, 1]])"
      ]
     },
     "execution_count": 40,
     "metadata": {},
     "output_type": "execute_result"
    }
   ],
   "source": [
    "np.ones((3,3),dtype = int)"
   ]
  },
  {
   "cell_type": "code",
   "execution_count": 41,
   "id": "160487e8",
   "metadata": {},
   "outputs": [],
   "source": [
    "a = np.random.randint(1,9,54)"
   ]
  },
  {
   "cell_type": "code",
   "execution_count": 42,
   "id": "81c72e5e",
   "metadata": {},
   "outputs": [],
   "source": [
    "# a.reshape(3,4)"
   ]
  },
  {
   "cell_type": "code",
   "execution_count": 43,
   "id": "2f185fc4",
   "metadata": {},
   "outputs": [],
   "source": [
    "a = a.reshape(9,6)"
   ]
  },
  {
   "cell_type": "code",
   "execution_count": 44,
   "id": "9ec595e6",
   "metadata": {},
   "outputs": [
    {
     "data": {
      "text/plain": [
       "array([[4, 3, 7, 1, 3, 1],\n",
       "       [2, 3, 6, 6, 2, 4],\n",
       "       [6, 1, 4, 8, 6, 4],\n",
       "       [4, 7, 5, 4, 3, 5],\n",
       "       [1, 8, 8, 4, 8, 8],\n",
       "       [3, 7, 7, 4, 1, 8],\n",
       "       [4, 5, 3, 7, 3, 2],\n",
       "       [1, 2, 4, 5, 4, 8],\n",
       "       [6, 5, 5, 5, 5, 2]])"
      ]
     },
     "execution_count": 44,
     "metadata": {},
     "output_type": "execute_result"
    }
   ],
   "source": [
    "a"
   ]
  },
  {
   "cell_type": "code",
   "execution_count": 45,
   "id": "3c550bf2",
   "metadata": {},
   "outputs": [
    {
     "data": {
      "text/plain": [
       "54"
      ]
     },
     "execution_count": 45,
     "metadata": {},
     "output_type": "execute_result"
    }
   ],
   "source": [
    "a.size"
   ]
  },
  {
   "cell_type": "code",
   "execution_count": 46,
   "id": "c7ac13ac",
   "metadata": {},
   "outputs": [
    {
     "data": {
      "text/plain": [
       "2"
      ]
     },
     "execution_count": 46,
     "metadata": {},
     "output_type": "execute_result"
    }
   ],
   "source": [
    "a.ndim"
   ]
  },
  {
   "cell_type": "code",
   "execution_count": 47,
   "id": "99eb40c9",
   "metadata": {},
   "outputs": [
    {
     "data": {
      "text/plain": [
       "(9, 6)"
      ]
     },
     "execution_count": 47,
     "metadata": {},
     "output_type": "execute_result"
    }
   ],
   "source": [
    "a.shape"
   ]
  },
  {
   "cell_type": "code",
   "execution_count": 48,
   "id": "3682e7e5",
   "metadata": {},
   "outputs": [
    {
     "data": {
      "text/plain": [
       "dtype('int32')"
      ]
     },
     "execution_count": 48,
     "metadata": {},
     "output_type": "execute_result"
    }
   ],
   "source": [
    "a.dtype"
   ]
  },
  {
   "cell_type": "code",
   "execution_count": 49,
   "id": "a9405d39",
   "metadata": {},
   "outputs": [
    {
     "data": {
      "text/plain": [
       "array([[4, 3, 7, 1, 3, 1],\n",
       "       [2, 3, 6, 6, 2, 4],\n",
       "       [6, 1, 4, 8, 6, 4],\n",
       "       [4, 7, 5, 4, 3, 5],\n",
       "       [1, 8, 8, 4, 8, 8],\n",
       "       [3, 7, 7, 4, 1, 8],\n",
       "       [4, 5, 3, 7, 3, 2],\n",
       "       [1, 2, 4, 5, 4, 8],\n",
       "       [6, 5, 5, 5, 5, 2]])"
      ]
     },
     "execution_count": 49,
     "metadata": {},
     "output_type": "execute_result"
    }
   ],
   "source": [
    "a"
   ]
  },
  {
   "cell_type": "code",
   "execution_count": 50,
   "id": "99f80aa7",
   "metadata": {},
   "outputs": [
    {
     "data": {
      "text/plain": [
       "array([[4, 7, 5, 4, 3, 5],\n",
       "       [1, 8, 8, 4, 8, 8],\n",
       "       [3, 7, 7, 4, 1, 8],\n",
       "       [4, 5, 3, 7, 3, 2],\n",
       "       [1, 2, 4, 5, 4, 8],\n",
       "       [6, 5, 5, 5, 5, 2]])"
      ]
     },
     "execution_count": 50,
     "metadata": {},
     "output_type": "execute_result"
    }
   ],
   "source": [
    "a[3:]"
   ]
  },
  {
   "cell_type": "code",
   "execution_count": 51,
   "id": "212938aa",
   "metadata": {},
   "outputs": [
    {
     "data": {
      "text/plain": [
       "7"
      ]
     },
     "execution_count": 51,
     "metadata": {},
     "output_type": "execute_result"
    }
   ],
   "source": [
    "a[0][2]"
   ]
  },
  {
   "cell_type": "code",
   "execution_count": 52,
   "id": "9a1c12b3",
   "metadata": {},
   "outputs": [
    {
     "data": {
      "text/plain": [
       "1"
      ]
     },
     "execution_count": 52,
     "metadata": {},
     "output_type": "execute_result"
    }
   ],
   "source": [
    "a[2][1]"
   ]
  },
  {
   "cell_type": "code",
   "execution_count": 53,
   "id": "6c8238fe",
   "metadata": {},
   "outputs": [
    {
     "data": {
      "text/plain": [
       "7"
      ]
     },
     "execution_count": 53,
     "metadata": {},
     "output_type": "execute_result"
    }
   ],
   "source": [
    "a[3][1]"
   ]
  },
  {
   "cell_type": "code",
   "execution_count": 54,
   "id": "94920920",
   "metadata": {},
   "outputs": [
    {
     "data": {
      "text/plain": [
       "array([4, 3, 7, 1, 3, 1, 2, 3, 6, 6, 2, 4, 6, 1, 4, 8, 6, 4, 4, 7, 5, 4,\n",
       "       3, 5, 1, 8, 8, 4, 8, 8, 3, 7, 7, 4, 1, 8, 4, 5, 3, 7, 3, 2, 1, 2,\n",
       "       4, 5, 4, 8, 6, 5, 5, 5, 5, 2])"
      ]
     },
     "execution_count": 54,
     "metadata": {},
     "output_type": "execute_result"
    }
   ],
   "source": [
    "a.ravel()"
   ]
  },
  {
   "cell_type": "code",
   "execution_count": 55,
   "id": "fd492fe6",
   "metadata": {},
   "outputs": [
    {
     "data": {
      "text/plain": [
       "array([[4, 3, 7, 1, 3, 1],\n",
       "       [2, 3, 6, 6, 2, 4],\n",
       "       [6, 1, 4, 8, 6, 4],\n",
       "       [4, 7, 5, 4, 3, 5],\n",
       "       [1, 8, 8, 4, 8, 8],\n",
       "       [3, 7, 7, 4, 1, 8],\n",
       "       [4, 5, 3, 7, 3, 2],\n",
       "       [1, 2, 4, 5, 4, 8],\n",
       "       [6, 5, 5, 5, 5, 2]])"
      ]
     },
     "execution_count": 55,
     "metadata": {},
     "output_type": "execute_result"
    }
   ],
   "source": [
    "a"
   ]
  },
  {
   "cell_type": "code",
   "execution_count": 56,
   "id": "b38d11ef",
   "metadata": {},
   "outputs": [],
   "source": [
    "x = np.random.randint(3,15,9).reshape(3,3)\n",
    "y = np.random.randint(3,15,9).reshape(3,3)"
   ]
  },
  {
   "cell_type": "code",
   "execution_count": 57,
   "id": "c7bf5167",
   "metadata": {},
   "outputs": [
    {
     "data": {
      "text/plain": [
       "array([[13,  3,  6],\n",
       "       [11,  7,  8],\n",
       "       [13, 11,  7]])"
      ]
     },
     "execution_count": 57,
     "metadata": {},
     "output_type": "execute_result"
    }
   ],
   "source": [
    "x"
   ]
  },
  {
   "cell_type": "code",
   "execution_count": 58,
   "id": "d84ee189",
   "metadata": {},
   "outputs": [
    {
     "data": {
      "text/plain": [
       "array([[ 5, 11,  8],\n",
       "       [ 7, 12,  3],\n",
       "       [ 3,  5, 10]])"
      ]
     },
     "execution_count": 58,
     "metadata": {},
     "output_type": "execute_result"
    }
   ],
   "source": [
    "y"
   ]
  },
  {
   "cell_type": "code",
   "execution_count": 59,
   "id": "2df2280b",
   "metadata": {},
   "outputs": [
    {
     "data": {
      "text/plain": [
       "array([[65, 33, 48],\n",
       "       [77, 84, 24],\n",
       "       [39, 55, 70]])"
      ]
     },
     "execution_count": 59,
     "metadata": {},
     "output_type": "execute_result"
    }
   ],
   "source": [
    "x*y"
   ]
  },
  {
   "cell_type": "code",
   "execution_count": 60,
   "id": "f4ac3158",
   "metadata": {},
   "outputs": [
    {
     "data": {
      "text/plain": [
       "array([[104, 209, 173],\n",
       "       [128, 245, 189],\n",
       "       [163, 310, 207]])"
      ]
     },
     "execution_count": 60,
     "metadata": {},
     "output_type": "execute_result"
    }
   ],
   "source": [
    "np.dot(x,y)"
   ]
  },
  {
   "cell_type": "code",
   "execution_count": 61,
   "id": "59bb1468",
   "metadata": {},
   "outputs": [
    {
     "data": {
      "text/plain": [
       "array([[ 8, -8, -2],\n",
       "       [ 4, -5,  5],\n",
       "       [10,  6, -3]])"
      ]
     },
     "execution_count": 61,
     "metadata": {},
     "output_type": "execute_result"
    }
   ],
   "source": [
    "x-y"
   ]
  },
  {
   "cell_type": "code",
   "execution_count": 62,
   "id": "b204e759",
   "metadata": {},
   "outputs": [
    {
     "data": {
      "text/plain": [
       "array([[18, 14, 14],\n",
       "       [18, 19, 11],\n",
       "       [16, 16, 17]])"
      ]
     },
     "execution_count": 62,
     "metadata": {},
     "output_type": "execute_result"
    }
   ],
   "source": [
    "x+y"
   ]
  },
  {
   "cell_type": "code",
   "execution_count": 63,
   "id": "1cdb9b9d",
   "metadata": {},
   "outputs": [
    {
     "data": {
      "text/plain": [
       "array([[2.6       , 0.27272727, 0.75      ],\n",
       "       [1.57142857, 0.58333333, 2.66666667],\n",
       "       [4.33333333, 2.2       , 0.7       ]])"
      ]
     },
     "execution_count": 63,
     "metadata": {},
     "output_type": "execute_result"
    }
   ],
   "source": [
    "x/y"
   ]
  },
  {
   "cell_type": "code",
   "execution_count": 64,
   "id": "20df2d5f",
   "metadata": {},
   "outputs": [
    {
     "data": {
      "text/plain": [
       "array([[2, 0, 0],\n",
       "       [1, 0, 2],\n",
       "       [4, 2, 0]], dtype=int32)"
      ]
     },
     "execution_count": 64,
     "metadata": {},
     "output_type": "execute_result"
    }
   ],
   "source": [
    "x//y"
   ]
  },
  {
   "cell_type": "code",
   "execution_count": 65,
   "id": "1d75162f",
   "metadata": {},
   "outputs": [
    {
     "data": {
      "text/plain": [
       "array([[3, 3, 6],\n",
       "       [4, 7, 2],\n",
       "       [1, 1, 7]], dtype=int32)"
      ]
     },
     "execution_count": 65,
     "metadata": {},
     "output_type": "execute_result"
    }
   ],
   "source": [
    "x%y"
   ]
  },
  {
   "cell_type": "code",
   "execution_count": 70,
   "id": "2051831b",
   "metadata": {},
   "outputs": [
    {
     "data": {
      "text/plain": [
       "13"
      ]
     },
     "execution_count": 70,
     "metadata": {},
     "output_type": "execute_result"
    }
   ],
   "source": [
    "np.max(x)"
   ]
  },
  {
   "cell_type": "code",
   "execution_count": 71,
   "id": "ae01af6f",
   "metadata": {},
   "outputs": [
    {
     "data": {
      "text/plain": [
       "array([[13,  3,  6],\n",
       "       [11,  7,  8],\n",
       "       [13, 11,  7]])"
      ]
     },
     "execution_count": 71,
     "metadata": {},
     "output_type": "execute_result"
    }
   ],
   "source": [
    "x"
   ]
  },
  {
   "cell_type": "code",
   "execution_count": 82,
   "id": "0da4afef",
   "metadata": {},
   "outputs": [
    {
     "data": {
      "text/plain": [
       "array([11,  3,  6])"
      ]
     },
     "execution_count": 82,
     "metadata": {},
     "output_type": "execute_result"
    }
   ],
   "source": [
    "np.min(x,axis = 0)"
   ]
  },
  {
   "cell_type": "code",
   "execution_count": 73,
   "id": "72ab9dc4",
   "metadata": {},
   "outputs": [
    {
     "data": {
      "text/plain": [
       "array([[3.60555128, 1.73205081, 2.44948974],\n",
       "       [3.31662479, 2.64575131, 2.82842712],\n",
       "       [3.60555128, 3.31662479, 2.64575131]])"
      ]
     },
     "execution_count": 73,
     "metadata": {},
     "output_type": "execute_result"
    }
   ],
   "source": [
    "np.sqrt(x)"
   ]
  },
  {
   "cell_type": "code",
   "execution_count": 80,
   "id": "715b7a3d",
   "metadata": {},
   "outputs": [
    {
     "data": {
      "text/plain": [
       "8.777777777777779"
      ]
     },
     "execution_count": 80,
     "metadata": {},
     "output_type": "execute_result"
    }
   ],
   "source": [
    "np.mean(x)"
   ]
  },
  {
   "cell_type": "code",
   "execution_count": 75,
   "id": "81449748",
   "metadata": {},
   "outputs": [
    {
     "data": {
      "text/plain": [
       "array([ 7.33333333,  8.66666667, 10.33333333])"
      ]
     },
     "execution_count": 75,
     "metadata": {},
     "output_type": "execute_result"
    }
   ],
   "source": [
    "np.mean(x,axis = 1)"
   ]
  },
  {
   "cell_type": "code",
   "execution_count": 76,
   "id": "7c65729b",
   "metadata": {},
   "outputs": [
    {
     "data": {
      "text/plain": [
       "array([[13,  3,  6],\n",
       "       [11,  7,  8],\n",
       "       [13, 11,  7]])"
      ]
     },
     "execution_count": 76,
     "metadata": {},
     "output_type": "execute_result"
    }
   ],
   "source": [
    "x"
   ]
  },
  {
   "cell_type": "code",
   "execution_count": 77,
   "id": "69cca943",
   "metadata": {},
   "outputs": [
    {
     "data": {
      "text/plain": [
       "array([12.33333333,  7.        ,  7.        ])"
      ]
     },
     "execution_count": 77,
     "metadata": {},
     "output_type": "execute_result"
    }
   ],
   "source": [
    "np.mean(x,axis = 0)"
   ]
  },
  {
   "cell_type": "code",
   "execution_count": 83,
   "id": "c0c7108d",
   "metadata": {},
   "outputs": [],
   "source": [
    "z = np.random.randint(3,20,27)"
   ]
  },
  {
   "cell_type": "code",
   "execution_count": 84,
   "id": "31bf8021",
   "metadata": {},
   "outputs": [
    {
     "data": {
      "text/plain": [
       "array([18,  7, 14, 14, 13, 15, 18, 18, 11,  9,  9, 10,  9, 16,  9, 13, 14,\n",
       "       19,  7, 10, 10, 13, 11, 17,  9,  3, 19])"
      ]
     },
     "execution_count": 84,
     "metadata": {},
     "output_type": "execute_result"
    }
   ],
   "source": [
    "z"
   ]
  },
  {
   "cell_type": "code",
   "execution_count": 90,
   "id": "81ef23f9",
   "metadata": {},
   "outputs": [],
   "source": [
    "z = z.reshape(3,3,3)"
   ]
  },
  {
   "cell_type": "code",
   "execution_count": 87,
   "id": "7867abe0",
   "metadata": {},
   "outputs": [
    {
     "data": {
      "text/plain": [
       "array([[[18,  7, 14],\n",
       "        [14, 13, 15],\n",
       "        [18, 18, 11]],\n",
       "\n",
       "       [[ 9,  9, 10],\n",
       "        [ 9, 16,  9],\n",
       "        [13, 14, 19]],\n",
       "\n",
       "       [[ 7, 10, 10],\n",
       "        [13, 11, 17],\n",
       "        [ 9,  3, 19]]])"
      ]
     },
     "execution_count": 87,
     "metadata": {},
     "output_type": "execute_result"
    }
   ],
   "source": [
    "z"
   ]
  },
  {
   "cell_type": "code",
   "execution_count": 91,
   "id": "d0ad2e30",
   "metadata": {},
   "outputs": [
    {
     "data": {
      "text/plain": [
       "11"
      ]
     },
     "execution_count": 91,
     "metadata": {},
     "output_type": "execute_result"
    }
   ],
   "source": [
    "z[2][1][1]"
   ]
  },
  {
   "cell_type": "code",
   "execution_count": 95,
   "id": "bd2dcc39",
   "metadata": {},
   "outputs": [],
   "source": [
    "z1 = np.random.randint(3,20,81)"
   ]
  },
  {
   "cell_type": "code",
   "execution_count": 96,
   "id": "ba50896d",
   "metadata": {},
   "outputs": [
    {
     "data": {
      "text/plain": [
       "array([17, 17, 19, 18, 14, 17, 18, 11, 17, 15, 19, 17,  6,  3,  5, 19, 18,\n",
       "       16, 17, 14, 16, 18,  3, 16, 12, 17, 18,  7, 16, 18,  4, 15, 15,  7,\n",
       "       10, 19, 17, 14,  9, 17,  7, 15, 19,  6, 11,  5,  5,  8,  8, 16, 11,\n",
       "       11, 19,  6, 13, 12, 17,  6, 10, 12, 16,  3, 19,  4, 10, 16,  4,  9,\n",
       "        5,  9, 19, 12, 18, 17,  9,  5, 19,  8, 13, 19,  3])"
      ]
     },
     "execution_count": 96,
     "metadata": {},
     "output_type": "execute_result"
    }
   ],
   "source": [
    "z1"
   ]
  },
  {
   "cell_type": "code",
   "execution_count": 100,
   "id": "3d3d5aec",
   "metadata": {},
   "outputs": [],
   "source": [
    "z1 = z1.reshape(3,3,3,3)"
   ]
  },
  {
   "cell_type": "code",
   "execution_count": 101,
   "id": "d67d5490",
   "metadata": {},
   "outputs": [
    {
     "data": {
      "text/plain": [
       "array([[[[17, 17, 19],\n",
       "         [18, 14, 17],\n",
       "         [18, 11, 17]],\n",
       "\n",
       "        [[15, 19, 17],\n",
       "         [ 6,  3,  5],\n",
       "         [19, 18, 16]],\n",
       "\n",
       "        [[17, 14, 16],\n",
       "         [18,  3, 16],\n",
       "         [12, 17, 18]]],\n",
       "\n",
       "\n",
       "       [[[ 7, 16, 18],\n",
       "         [ 4, 15, 15],\n",
       "         [ 7, 10, 19]],\n",
       "\n",
       "        [[17, 14,  9],\n",
       "         [17,  7, 15],\n",
       "         [19,  6, 11]],\n",
       "\n",
       "        [[ 5,  5,  8],\n",
       "         [ 8, 16, 11],\n",
       "         [11, 19,  6]]],\n",
       "\n",
       "\n",
       "       [[[13, 12, 17],\n",
       "         [ 6, 10, 12],\n",
       "         [16,  3, 19]],\n",
       "\n",
       "        [[ 4, 10, 16],\n",
       "         [ 4,  9,  5],\n",
       "         [ 9, 19, 12]],\n",
       "\n",
       "        [[18, 17,  9],\n",
       "         [ 5, 19,  8],\n",
       "         [13, 19,  3]]]])"
      ]
     },
     "execution_count": 101,
     "metadata": {},
     "output_type": "execute_result"
    }
   ],
   "source": [
    "z1"
   ]
  },
  {
   "cell_type": "code",
   "execution_count": 106,
   "id": "82481d84",
   "metadata": {},
   "outputs": [
    {
     "data": {
      "text/plain": [
       "16"
      ]
     },
     "execution_count": 106,
     "metadata": {},
     "output_type": "execute_result"
    }
   ],
   "source": [
    "z1[2][0][2][0]"
   ]
  },
  {
   "cell_type": "code",
   "execution_count": null,
   "id": "41bb5b1e",
   "metadata": {},
   "outputs": [],
   "source": []
  }
 ],
 "metadata": {
  "kernelspec": {
   "display_name": "Python 3 (ipykernel)",
   "language": "python",
   "name": "python3"
  },
  "language_info": {
   "codemirror_mode": {
    "name": "ipython",
    "version": 3
   },
   "file_extension": ".py",
   "mimetype": "text/x-python",
   "name": "python",
   "nbconvert_exporter": "python",
   "pygments_lexer": "ipython3",
   "version": "3.9.7"
  }
 },
 "nbformat": 4,
 "nbformat_minor": 5
}
